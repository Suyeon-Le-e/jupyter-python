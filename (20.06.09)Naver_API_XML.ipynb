{
 "cells": [
  {
   "cell_type": "code",
   "execution_count": 13,
   "metadata": {},
   "outputs": [],
   "source": [
    "import requests\n",
    "from bs4 import BeautifulSoup"
   ]
  },
  {
   "cell_type": "code",
   "execution_count": 14,
   "metadata": {},
   "outputs": [],
   "source": [
    "def book_xml_proc(resp):\n",
    "    soup = BeautifulSoup(resp.text)\n",
    "    book_all = soup.select('item')\n",
    "    for book_one in book_all:\n",
    "        title_b = book_one.select_one('title').text\n",
    "        title = title_b.replace('<b>','').replace('</b>','')\n",
    "        price = book_one.select_one('price').text\n",
    "        discount = book_one.select_one('discount').text\n",
    "        print(title,price,discount)\n",
    "        print('*'*50)"
   ]
  },
  {
   "cell_type": "code",
   "execution_count": 15,
   "metadata": {},
   "outputs": [],
   "source": [
    "def blog_xml_proc(resp):\n",
    "    soup = BeautifulSoup(resp.text)\n",
    "    blog_all = soup.select('item')\n",
    "    for blog_one in blog_all:\n",
    "        title = blog_one.select_one('title').text\n",
    "        bloggername = blog_one.select_one('bloggername').text\n",
    "        bloggerlink = blog_one.select_one('bloggerlink').text\n",
    "        print(title,bloggername,bloggerlink)\n",
    "        print('*'*50)"
   ]
  },
  {
   "cell_type": "code",
   "execution_count": 16,
   "metadata": {},
   "outputs": [],
   "source": [
    "def news_xml_proc(resp):\n",
    "    soup = BeautifulSoup(resp.text)\n",
    "    news_all = soup.select('item')\n",
    "    for news_one in news_all:\n",
    "        title_b = news_one.select_one('title').text\n",
    "        title = title_b.replace('&quot','')\n",
    "        originallink = news_one.select_one('originallink').text\n",
    "        pubdate = news_one.select_one('pubdate').text\n",
    "        print(title,originallink,pubdate)\n",
    "        print('*'*50)"
   ]
  },
  {
   "cell_type": "code",
   "execution_count": 17,
   "metadata": {},
   "outputs": [],
   "source": [
    "def naver_search_xml(num, query, display, start, sort):\n",
    "    \n",
    "    search_kind = ['book','blog','news']\n",
    "    \n",
    "    client_id = 'sFajHYGCpYnAlKLLU35_'\n",
    "    client_secret = 'pF7wpzzK4l'\n",
    "    \n",
    "    url = 'https://openapi.naver.com/v1/search/{}.xml'\n",
    "    url = url.format(search_kind[int(num)-1])\n",
    "    params = {'query':query,\n",
    "              'display':display,\n",
    "              'start':start,\n",
    "              'sort':sort}\n",
    "    \n",
    "    headers = {\n",
    "        'X-Naver-Client-Id':client_id,\n",
    "        'X-Naver-Client-Secret':client_secret\n",
    "    }\n",
    "    \n",
    "    response = requests.get(url,headers=headers, params=params)\n",
    "    if response.status_code == 200:\n",
    "        if int(num) == 1:\n",
    "            book_xml_proc(response)\n",
    "        elif int(num) == 2:\n",
    "            blog_xml_proc(response)  \n",
    "        elif int(num) == 3:\n",
    "            news_xml_proc(response) \n",
    "    else:\n",
    "        print(response.status_code)"
   ]
  },
  {
   "cell_type": "code",
   "execution_count": 18,
   "metadata": {},
   "outputs": [],
   "source": [
    "def app():\n",
    "    prompt = '''\n",
    "        1. Book Search\n",
    "        2. Blog Search\n",
    "        3. News Search\n",
    "        4. Quit\n",
    "    '''\n",
    "    number = 0\n",
    "    while True:\n",
    "        print(prompt)\n",
    "        num = input()\n",
    "        if num == '4':\n",
    "            print('안녕히가세요')\n",
    "            break\n",
    "        query = input('검색어를 넣으세요>')\n",
    "        display = 10\n",
    "        start = 1\n",
    "        sort = 'date'\n",
    "        naver_search_xml(num, query, display, start, sort)"
   ]
  },
  {
   "cell_type": "code",
   "execution_count": 20,
   "metadata": {
    "scrolled": false
   },
   "outputs": [
    {
     "name": "stdout",
     "output_type": "stream",
     "text": [
      "\n",
      "        1. Book Search\n",
      "        2. Blog Search\n",
      "        3. News Search\n",
      "        4. Quit\n",
      "    \n",
      "2\n",
      "검색어를 넣으세요>연남동\n",
      "[<b>연남동</b>/홍대 맛집] 소이연남 / 태국식 소고기국수 맛봤어요 시그니처뷰티 https://blog.naver.com/spabloom\n",
      "**************************************************\n",
      "[청주] 수암골 카페 오지 (OHJI), 디저트 천국 오지에서...  subjective, now moment https://blog.naver.com/fndl6693\n",
      "**************************************************\n",
      "(오늘의 맛집)(서울 마포) 색깔별로 맛있는 아이스크림이 있는...  오늘의리뷰 https://blog.naver.com/todayreviewcompany\n",
      "**************************************************\n",
      "쉼터 소장 메모에 수사관 이름…검찰 해명은? 모모영 https://blog.naver.com/asaa0528\n",
      "**************************************************\n",
      "웨이팅 해서 먹을만한 맛이었다 올더플레이트 phasse_11088님의블로그 https://blog.naver.com/phasse_11088\n",
      "**************************************************\n",
      "최애<b>연남동</b>맛집, 여전한   혼자보단 도움을~ ularpai31님의블로그 https://blog.naver.com/ularpai31\n",
      "**************************************************\n",
      "홍대 | 또보겠지 떡볶이집(붕붕허니비점) - 그래 또 보자! 아무튼, 블로그 https://blog.naver.com/jihyun5229\n",
      "**************************************************\n",
      "저는 트러플이 들어간 버섯크림리조또를 엄청 유니의우아한식탁 배불르D https://blog.naver.com/whlcby2sxc\n",
      "**************************************************\n",
      "서점에 내일 쯤은 택배 보낼것 ~ 누그러지는 일기장 https://blog.naver.com/candelairuni\n",
      "**************************************************\n",
      "<b>연남동</b>맛집 연남곱창에서 먹는재미와 보는재미를 경험해보세요~ 휴식이필요해 https://blog.naver.com/heo4023\n",
      "**************************************************\n",
      "\n",
      "        1. Book Search\n",
      "        2. Blog Search\n",
      "        3. News Search\n",
      "        4. Quit\n",
      "    \n",
      "1\n",
      "검색어를 넣으세요>부자\n",
      "부자의 정석 (1인기업·부동산 토지 투자 재테크로 부자되는 비밀노트)) 18000 16200\n",
      "**************************************************\n",
      "2020 신문으로 공부하는 말랑말랑 시사상식 경제ㆍ경영 (펠리컨 경제.슬로벌라이제이션.아마존효과 등 경제 키워드를 한큐에!) 15000 13500\n",
      "**************************************************\n",
      "150억 부자의 부의 추월차선 (아직 추월차선에 진입하지 못한 사람들을 위한 선물 같은 책) 20000 18000\n",
      "**************************************************\n",
      "내 삶을 바꾼 독서의 기적 (가장 빠르게 삶을 뒤집는, 가장 현실적인 독서법) 18500 16650\n",
      "**************************************************\n",
      "돈의 속성 (최상위 부자가 말하는 돈에 대한 모든 것) 16800 15120\n",
      "**************************************************\n",
      "슈퍼리치는 해외주식에 투자한다 (시작부터 포트폴리오까지, 손쉽게 따라하는 투자 가이드) 16000 14400\n",
      "**************************************************\n",
      "부동산 투자는 최고의 부업이다 15000 13500\n",
      "**************************************************\n",
      "역대급 식당으로 벼락부자 100 100\n",
      "**************************************************\n",
      "그녀, 클로이 (마르크 레비 장편소설) 14000 12600\n",
      "**************************************************\n",
      "10대를 위한 완벽한 진로 공부법 (코로나19 이후 새로운 시대를 준비하는 초중고 미래 교양 교과서) 14800 13320\n",
      "**************************************************\n",
      "\n",
      "        1. Book Search\n",
      "        2. Blog Search\n",
      "        3. News Search\n",
      "        4. Quit\n",
      "    \n",
      "3\n",
      "검색어를 넣으세요>주식\n",
      "크릴오일 제품 41개 가운데 12개는 부적합 판정 http://www.womaneconomy.kr/news/articleView.html?idxno=91334 Tue, 09 Jun 2020 18:28:00 +0900\n",
      "[아! 이 금융상품]BNK경남은행, 'BNK썸글로벌EMP펀드' 판매 http://www.econovill.com/news/articleView.html?idxno=400247 Tue, 09 Jun 2020 18:28:00 +0900\n",
      "시민이 뽑는 '2020년 부산 미래유산' http://www.fnnews.com/news/202006091825208293 Tue, 09 Jun 2020 18:26:00 +0900\n",
      "[서환-마감] 리스크온 지속에 석 달 만 1,200원 하회…7.10원↓ http://news.einfomax.co.kr/news/articleView.html?idxno=4091864 Tue, 09 Jun 2020 18:24:00 +0900\n",
      "KCGI, 한진칼 지분 11만주 매입 http://www.newspim.com/news/view/20200609001035 Tue, 09 Jun 2020 18:24:00 +0900\n",
      "HDC현산, 아시아나 인수 변함없지만… ;인수조건 원점서 재협의; http://www.newscj.com/news/articleView.html?idxno=746236 Tue, 09 Jun 2020 18:24:00 +0900\n",
      "거래소, 샘코 불성실공시법인 지정예고 http://www.edaily.co.kr/news/newspath.asp?newsid=03991766625800080 Tue, 09 Jun 2020 18:23:00 +0900\n",
      "[입찰 정보] 6월9일자 http://www.todayenergy.kr/news/articleView.html?idxno=225767 Tue, 09 Jun 2020 18:22:00 +0900\n",
      "[상장합니다!] '소부장' 윈텍, 반도체·2차전지 수혜 기대 http://www.asiatoday.co.kr/view.php?key=20200609010005761 Tue, 09 Jun 2020 18:22:00 +0900\n",
      "백제약품 레오파마 전품목 판매 계약 체결 '눈길' http://www.bosa.co.kr/news/articleView.html?idxno=2128392 Tue, 09 Jun 2020 18:22:00 +0900\n",
      "\n",
      "        1. Book Search\n",
      "        2. Blog Search\n",
      "        3. News Search\n",
      "        4. Quit\n",
      "    \n",
      "4\n",
      "안녕히가세요\n"
     ]
    }
   ],
   "source": [
    "app()"
   ]
  },
  {
   "cell_type": "code",
   "execution_count": null,
   "metadata": {},
   "outputs": [],
   "source": []
  },
  {
   "cell_type": "code",
   "execution_count": null,
   "metadata": {},
   "outputs": [],
   "source": []
  }
 ],
 "metadata": {
  "kernelspec": {
   "display_name": "Python 3",
   "language": "python",
   "name": "python3"
  },
  "language_info": {
   "codemirror_mode": {
    "name": "ipython",
    "version": 3
   },
   "file_extension": ".py",
   "mimetype": "text/x-python",
   "name": "python",
   "nbconvert_exporter": "python",
   "pygments_lexer": "ipython3",
   "version": "3.7.7"
  }
 },
 "nbformat": 4,
 "nbformat_minor": 4
}
