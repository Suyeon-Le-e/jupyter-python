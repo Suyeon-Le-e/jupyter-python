{
 "cells": [
  {
   "cell_type": "markdown",
   "metadata": {},
   "source": [
    "## WEB-API(Application Programming Interface)\n",
    "- 웹서비스의 정보를 웹사이트를 통해 제공 : 크롤링으로 수집(비공식 수집)\n",
    "- 웹API : AIP 정보로 수집(공식적으로 수집"
   ]
  },
  {
   "cell_type": "code",
   "execution_count": 11,
   "metadata": {
    "scrolled": true
   },
   "outputs": [],
   "source": [
    "client_id = 'sFajHYGCpYnAlKLLU35_'\n",
    "client_secret = 'pF7wpzzK4l'"
   ]
  },
  {
   "cell_type": "code",
   "execution_count": 12,
   "metadata": {},
   "outputs": [],
   "source": [
    "import os \n",
    "import sys\n",
    "import requests\n",
    "import datetime\n",
    "import time"
   ]
  },
  {
   "cell_type": "code",
   "execution_count": 25,
   "metadata": {
    "collapsed": true
   },
   "outputs": [
    {
     "name": "stdout",
     "output_type": "stream",
     "text": [
      "{\n",
      "\"lastBuildDate\": \"Tue, 09 Jun 2020 16:37:13 +0900\",\n",
      "\"total\": 153017,\n",
      "\"start\": 1,\n",
      "\"display\": 10,\n",
      "\"items\": [\n",
      "{\n",
      "\"title\": \"<b>파이썬</b>학원 쉬운 길은 존재한다\",\n",
      "\"link\": \"https:\\/\\/blog.naver.com\\/kang6864?Redirect=Log&logNo=221911853233\",\n",
      "\"description\": \"프로그래밍 관련 교육을 진행하는 곳들은 매우 많았지만 <b>파이썬</b>학원 커리큘럼과 학생 후기 등을 꼼꼼히... 그러자 비전공자들을 기반으로 해서 이해하기 쉽고 여러 분야에 활용이 가능한 <b>파이썬</b>학원을 위주로... \",\n",
      "\"bloggername\": \"8살 연상연하 한강부부의 흥로그\",\n",
      "\"bloggerlink\": \"https://blog.naver.com/kang6864\",\n",
      "\"postdate\": \"20200416\"\n",
      "\n",
      "},\n",
      "{\n",
      "\"title\": \"<b>파이썬</b> 학원 리얼 후기!!!\",\n",
      "\"link\": \"https:\\/\\/blog.naver.com\\/designer_dh?Redirect=Log&logNo=221973235700\",\n",
      "\"description\": \"그렇게 저의 공부의 첫시작은 프로그래밍 언어 <b>파이썬</b>이었습니다. IT, 프로그래밍 언어는 처음 배우는... <b>파이썬</b> 활용에 필요한 프로그램을 설치하고 실행하는데 있어서 도움을 직접 많이 받았습니다. 그외에도... \",\n",
      "\"bloggername\": \"부러진날개로 나는법을 배워라\",\n",
      "\"bloggerlink\": \"https://blog.naver.com/designer_dh\",\n",
      "\"postdate\": \"20200521\"\n",
      "\n",
      "},\n",
      "{\n",
      "\"title\": \"<b>파이썬</b>학원 블라인드에 도전한다!\",\n",
      "\"link\": \"https:\\/\\/blog.naver.com\\/iloveihj007?Redirect=Log&logNo=221981925268\",\n",
      "\"description\": \"하지만 나는 더이상 나태해지지 않기 위해서 부스스 일어나 <b>파이썬</b>학원 갈 채비를 했다. 학원은 왜 가기... 따란, 어차피 나는 취업을 위해서 <b>파이썬</b>학원 다니는 거고 어차피!!! 나는 또 기초 과목을 수강했어야... \",\n",
      "\"bloggername\": \"So_various\",\n",
      "\"bloggerlink\": \"https://blog.naver.com/iloveihj007\",\n",
      "\"postdate\": \"20200528\"\n",
      "\n",
      "},\n",
      "{\n",
      "\"title\": \"<b>파이썬</b>학원 모든 준비를 마쳤죠!\",\n",
      "\"link\": \"https:\\/\\/blog.naver.com\\/ragocittemir?Redirect=Log&logNo=221980487009\",\n",
      "\"description\": \"<b>파이썬</b>학원 모든 준비를 마쳤죠! 대학교를 다니면서 캐나다로 워킹홀리데이를 간 적이 있었어요.... 키워가고자 <b>파이썬</b>학원을 통해 배우고자 했어요. 요즘 IT산업이계속해서 발전하고 있는 것은 물론이고, 한국은... \",\n",
      "\"bloggername\": \"안녕\",\n",
      "\"bloggerlink\": \"https://blog.naver.com/ragocittemir\",\n",
      "\"postdate\": \"20200527\"\n",
      "\n",
      "},\n",
      "{\n",
      "\"title\": \"신촌<b>파이썬</b>학원 매일 성장하는 즐거움!\",\n",
      "\"link\": \"https:\\/\\/blog.naver.com\\/mmim_93?Redirect=Log&logNo=221960090263\",\n",
      "\"description\": \"제가 학교에 다닐 때에는 그런 정보는 전혀 없었지만, 지금이라도 배워둔다면 추후 유용하게 사용을 할 수 있을 것이라는 생각에 신촌<b>파이썬</b>학원을 찾아가게 되었어요. 그리고 <b>파이썬</b>의 경우에는 코딩을... \",\n",
      "\"bloggername\": \"밈_일상로그\",\n",
      "\"bloggerlink\": \"https://blog.naver.com/mmim_93\",\n",
      "\"postdate\": \"20200513\"\n",
      "\n",
      "},\n",
      "{\n",
      "\"title\": \"<b>파이썬</b>학원 진부한 교육은 그만!\",\n",
      "\"link\": \"https:\\/\\/blog.naver.com\\/zzang9313?Redirect=Log&logNo=221963973542\",\n",
      "\"description\": \"중에서도 <b>파이썬</b>이 그나마 쉬운 편이라고 하더라고요. 초보자들이 배우기는 쉽다고 하지만 활용력이 좋아서 전문가들 사이에서도 자주 사용되는 언어라고 해요 그래서 묻지도 따지지도 않고 <b>파이썬</b>학원 바... \",\n",
      "\"bloggername\": \"빠게트를 좋아하지 않지만 빠게트 입니다.\",\n",
      "\"bloggerlink\": \"https://blog.naver.com/zzang9313\",\n",
      "\"postdate\": \"20200515\"\n",
      "\n",
      "},\n",
      "{\n",
      "\"title\": \"<b>파이썬</b> 프로그래밍 인강으로 독학했어요\",\n",
      "\"link\": \"https:\\/\\/blog.naver.com\\/cdh0584?Redirect=Log&logNo=221980303138\",\n",
      "\"description\": \"<b>파이썬</b> 프로그래밍 인강으로 독학했어요 욱쌤입니다 <b>파이썬</b> 인강 후기를 가져왔습니다 요즘 주변에서 프로그래밍이니 4차산업혁명이니 어쩌니 하는 소리가 많이 들리더라고요 저랑은 관련 없는 다른 세상... \",\n",
      "\"bloggername\": \"부날파 : 부러진날개로파다닥 New\",\n",
      "\"bloggerlink\": \"https://blog.naver.com/cdh0584\",\n",
      "\"postdate\": \"20200527\"\n",
      "\n",
      "},\n",
      "{\n",
      "\"title\": \"<b>파이썬</b>학원 기초 뼈대를 잡다!\",\n",
      "\"link\": \"https:\\/\\/blog.naver.com\\/mylove122007?Redirect=Log&logNo=221978367137\",\n",
      "\"description\": \"<b>파이썬</b>학원 기초 뼈대를 잡다! 세상은 알다가도 모를 일들이 펼쳐지는 거 같아요. 찬찬히 생각을... 덕분에 저녁시간 <b>파이썬</b>학원을 다니며 기초를 쓱쓱 닦고 있답니다. 배움이라는게 억지로 떠밀어서 되나요?... \",\n",
      "\"bloggername\": \"SMAP Forever~♡\",\n",
      "\"bloggerlink\": \"https://blog.naver.com/mylove122007\",\n",
      "\"postdate\": \"20200525\"\n",
      "\n",
      "},\n",
      "{\n",
      "\"title\": \"<b>파이썬</b> 학원 제대로 배웠죠!\",\n",
      "\"link\": \"https:\\/\\/blog.naver.com\\/mj_edith?Redirect=Log&logNo=221927179964\",\n",
      "\"description\": \"<b>파이썬</b>학원 제대로 배웠죠! 운이 좋게도 졸업과 동시에 취업이 되었어요! 요즘 취업난이 심하다고들... 하는 마음으로 보다 전문적이고 실전에 필요한 지식들과 기술을 배우고자, <b>파이썬</b>학원을 다니기로... \",\n",
      "\"bloggername\": \"밍-로그 :)\",\n",
      "\"bloggerlink\": \"https://blog.naver.com/mj_edith\",\n",
      "\"postdate\": \"20200424\"\n",
      "\n",
      "},\n",
      "{\n",
      "\"title\": \"<b>파이썬</b> 설치 다운로드부터 해야겠죠?\",\n",
      "\"link\": \"https:\\/\\/blog.naver.com\\/sweetk2ss?Redirect=Log&logNo=221954566322\",\n",
      "\"description\": \"제격인 <b>파이썬</b> 설치 및 다운로드 방법에 대해 알려드리는 시간을 가져볼까 합니다. Phthon은 오픈 소스 소프트웨어입니다. 그렇기에 누구나 Phthon 공식 사이트를 통해 <b>파이썬</b> 설치 파일을 다운로드할... \",\n",
      "\"bloggername\": \"도찌의블로그\",\n",
      "\"bloggerlink\": \"https://blog.naver.com/sweetk2ss\",\n",
      "\"postdate\": \"20200510\"\n",
      "\n",
      "}\n",
      "]\n",
      "}\n",
      "\n"
     ]
    }
   ],
   "source": [
    "import urllib\n",
    "client_id = \"sFajHYGCpYnAlKLLU35_\"\n",
    "client_secret = \"pF7wpzzK4l\"\n",
    "encText = urllib.parse.quote(\"파이썬\")\n",
    "url = \"https://openapi.naver.com/v1/search/blog?query=\" + encText # json 결과\n",
    "# url = \"https://openapi.naver.com/v1/search/blog.xml?query=\" + encText # xml 결과\n",
    "request = urllib.request.Request(url)\n",
    "request.add_header(\"X-Naver-Client-Id\",client_id)\n",
    "request.add_header(\"X-Naver-Client-Secret\",client_secret)\n",
    "response = urllib.request.urlopen(request)\n",
    "rescode = response.getcode()\n",
    "if(rescode==200):\n",
    "    response_body = response.read()\n",
    "    print(response_body.decode('utf-8'))\n",
    "else:\n",
    "    print(\"Error Code:\" + rescode)"
   ]
  },
  {
   "cell_type": "code",
   "execution_count": 14,
   "metadata": {},
   "outputs": [],
   "source": [
    "import os \n",
    "import sys\n",
    "import requests\n",
    "import datetime\n",
    "import time"
   ]
  },
  {
   "cell_type": "code",
   "execution_count": 19,
   "metadata": {
    "collapsed": true
   },
   "outputs": [
    {
     "data": {
      "text/plain": [
       "{'lastBuildDate': 'Tue, 09 Jun 2020 16:36:24 +0900',\n",
       " 'total': 7826,\n",
       " 'start': 1,\n",
       " 'display': 10,\n",
       " 'items': [{'title': '우버, 뉴로팟 오픈소싱...멀티 딥러닝 프레임워크 환경 통합',\n",
       "   'originallink': 'http://www.aitimes.com/news/articleView.html?idxno=129262',\n",
       "   'link': 'http://www.aitimes.com/news/articleView.html?idxno=129262',\n",
       "   'description': '예를 들어 사용자가 C++에서 파이토치 모델을 실행하려 한다면 뉴로팟은 <b>파이썬</b> 번역기를 돌려 모델이 돌아가게 할 것이다. 뉴로팟은 현재 모델을 메타데이터ㆍ테스트 데이터ㆍ사용자 정의 연산\\xa0등과 오리지널 모델을... ',\n",
       "   'pubDate': 'Tue, 09 Jun 2020 16:06:00 +0900'},\n",
       "  {'title': '그린컴퓨터학원, 최대 50% 할인 받을 수 있는 방학특강 과정 개설',\n",
       "   'originallink': 'http://www.irobotnews.com/news/articleView.html?idxno=21013',\n",
       "   'link': 'http://www.irobotnews.com/news/articleView.html?idxno=21013',\n",
       "   'description': '자바, <b>파이썬</b>) △OA(엑셀, 파워포인트, 워드, 엑세스) △자격증(컴퓨터그래픽스, GTQ, ATC, 컴퓨터활용능력... 입문과정 △자바, <b>파이썬</b> 활용 빅데이터 UI 전문가 양성과정 △회계, 세무 중급관리자(전산세무회계, TAT)... ',\n",
       "   'pubDate': 'Tue, 09 Jun 2020 15:20:00 +0900'},\n",
       "  {'title': '기술력 업! 무료 온라인 교육 과정 사이트 12선',\n",
       "   'originallink': 'http://www.ciokorea.com/news/154792',\n",
       "   'link': 'http://www.ciokorea.com/news/154792',\n",
       "   'description': '코드아카데미 코드아카데미(Codeacademy)는 <b>파이썬</b>, 루비, 자바, 자바스크립트, 제이쿼리(jQuery), 리액트.js... 프로그래밍의 기본 사항에 대한 과정을 수강하고 <b>파이썬</b>, C, 자바와 같은 다양한 프로그래밍 언어 목록... ',\n",
       "   'pubDate': 'Tue, 09 Jun 2020 12:02:00 +0900'},\n",
       "  {'title': '아시아경제 교육센터, 빅데이터 산업전문가 양성과정 훈련생 모집',\n",
       "   'originallink': 'https://view.asiae.co.kr/article/2020060911341129124',\n",
       "   'link': 'https://news.naver.com/main/read.nhn?mode=LSD&mid=sec&sid1=101&oid=277&aid=0004694828',\n",
       "   'description': '빅데이터 기술은 <b>파이썬</b>(Python) 기반의 프로그래밍을 통해 목적에 맞는 대량의 데이터를 수집, 분석하여... <b>파이썬</b>(Python) 프로그래밍 언어를 기반으로 데이터수집, 통계, 머신러닝, 딥러닝 및 산업 데이터 분석 실습 및... ',\n",
       "   'pubDate': 'Tue, 09 Jun 2020 11:33:00 +0900'},\n",
       "  {'title': '한국 상륙-6개국에서 열린 어린이 코딩대회, 신한카드와 한국공학한림원 지원',\n",
       "   'originallink': 'http://www.ccdailynews.com/news/articleView.html?idxno=1071350',\n",
       "   'link': 'http://www.ccdailynews.com/news/articleView.html?idxno=1071350',\n",
       "   'description': \"&quot;이를 통해 학생들은 블록코딩부터 텍스트코딩, <b>파이썬</b>까지 코딩교육에 필요한 지식을 쉽고 재미있게 배울 수 있다&quot;라고 담당자는 밝혔다. 이번 행사에서 주목해야할 점은 바로 국내 3대 카드사 중 한 곳인 '신한카드... \",\n",
       "   'pubDate': 'Tue, 09 Jun 2020 11:10:00 +0900'},\n",
       "  {'title': '국립중앙과학관, 신규 인공지능(AI) 체험교육 본격 착수',\n",
       "   'originallink': 'http://www.boannews.com/media/view.asp?idx=88803&kind=2',\n",
       "   'link': 'http://www.boannews.com/media/view.asp?idx=88803&kind=2',\n",
       "   'description': '각 동아리는 초급(블록으로 인공지능 스피커 만들기), 중급(<b>파이썬</b>으로 인공지능 스피커 만들기), 고급(딥러닝 이해하기) 등 3개 과정 중 1개 과정을 선택 후 원하는 날짜와 시간에 과학관을 방문(최대 3회)해 체험교육을... ',\n",
       "   'pubDate': 'Tue, 09 Jun 2020 11:04:00 +0900'},\n",
       "  {'title': '[MODU 학셔너리] 문헌정보학과(Library and Information Science)',\n",
       "   'originallink': 'http://www.hani.co.kr/arti/society/schooling/948527.html',\n",
       "   'link': 'https://news.naver.com/main/read.nhn?mode=LSD&mid=sec&sid1=102&oid=028&aid=0002500412',\n",
       "   'description': '실습실 컴퓨터로 수업을 듣기 때문에 <b>파이썬</b>, SQL 등 파일을 USB에 체계적으로 정리해둬야 효과적으로 복습할 수 있지. # 백희나 작가 | ‘아동문학계의 노벨상’으로 불리는 아스트리드 린드그렌 상을 수상한 백희나... ',\n",
       "   'pubDate': 'Tue, 09 Jun 2020 10:54:00 +0900'},\n",
       "  {'title': '위시켓, ‘MZ세대 IT 프리랜서 현황’ 발표',\n",
       "   'originallink': 'https://platum.kr/archives/142726',\n",
       "   'link': 'https://platum.kr/archives/142726',\n",
       "   'description': '6위 <b>파이썬</b> 순으로 위시켓 전체 보유 기술 순위와 유사했으나, Z세대의 데이터만 확인했을 때 1위 <b>파이썬</b>, 2위 JavaScript, 3위 Java, 4위 C/C++, 5위 PHP로 PYPL(PopularitY of Programming Language, 구글에 자주 검색되는 언어... ',\n",
       "   'pubDate': 'Tue, 09 Jun 2020 09:28:00 +0900'},\n",
       "  {'title': '딥러닝 머신러닝 위한 <b>파이썬</b> 넘파이',\n",
       "   'originallink': 'http://www.upinews.kr/newsView/upi202006080054',\n",
       "   'link': 'http://www.upinews.kr/newsView/upi202006080054',\n",
       "   'description': '수학 및 과학 연산을 위한 <b>파이썬</b>(Python) 패키지 넘파이 모듈(Numpy module)은 인공지능의 기초다. <b>파이썬</b>으로 데이터 분석, 통계 관련 기능을 구현할 때 넘파이는 가장 기본이 되는 모듈이다. 그만큼 넘파이는 데이터... ',\n",
       "   'pubDate': 'Mon, 08 Jun 2020 19:44:00 +0900'},\n",
       "  {'title': '국립중앙과학관, 초∙중학생 대상 신규 AI 체험교육 본격 착수',\n",
       "   'originallink': 'http://digitalchosun.dizzo.com/site/data/html_dir/2020/06/08/2020060880191.html',\n",
       "   'link': 'http://digitalchosun.dizzo.com/site/data/html_dir/2020/06/08/2020060880191.html',\n",
       "   'description': '*과학관 AI 자문단 : <b>파이썬</b> 등 프로그래밍 언어, 인공지능관련 수학, 오픈소스 H/W 활용 등 자문을 위해... 각 동아리는 초급(블록으로 AI 스피커 만들기), 중급(<b>파이썬</b>으로 AI 스피커 만들기), 고급(딥러닝 이해하기) 등 3개... ',\n",
       "   'pubDate': 'Mon, 08 Jun 2020 16:48:00 +0900'}]}"
      ]
     },
     "execution_count": 19,
     "metadata": {},
     "output_type": "execute_result"
    }
   ],
   "source": [
    "#json\n",
    "url = 'https://openapi.naver.com/v1/search/news.json'\n",
    "params = {'query':'파이썬',\n",
    "          'display':'10',\n",
    "          'strart':'1',\n",
    "          'sort':'date'}\n",
    "# request.add_header(\"X-Naver-Client-Id\",client_id)\n",
    "# request.add_header(\"X-Naver-Client-Secret\",client_secret)\n",
    "\n",
    "headers = {\n",
    "    'X-Naver-Client-Id':client_id,\n",
    "    'X-Naver-Client-Secret':client_secret\n",
    "}\n",
    "response = requests.get(url,headers=headers, params=params)\n",
    "response.json()"
   ]
  },
  {
   "cell_type": "code",
   "execution_count": 28,
   "metadata": {},
   "outputs": [],
   "source": [
    "#XML\n",
    "url = 'https://openapi.naver.com/v1/search/book.xml'\n",
    "params = {'query':'파이썬',\n",
    "          'display':'10',\n",
    "          'strart':'1',\n",
    "          'sort':'date'}\n",
    "request.add_header(\"X-Naver-Client-Id\",client_id)\n",
    "request.add_header(\"X-Naver-Client-Secret\",client_secret)\n",
    "\n",
    "headers = {\n",
    "    'X-Naver-Client-Id':client_id,\n",
    "    'X-Naver-Client-Secret':client_secret\n",
    "}\n",
    "response = requests.get(url,headers=headers, params=params)"
   ]
  },
  {
   "cell_type": "code",
   "execution_count": 29,
   "metadata": {
    "collapsed": true
   },
   "outputs": [
    {
     "data": {
      "text/plain": [
       "<?xml version=\"1.0\" encoding=\"UTF-8\"?><rss version=\"2.0\"><channel><title>Naver Open API - book ::'파이썬'</title><link/>https://search.naver.com<description>Naver Search Result</description><lastbuilddate>Tue, 09 Jun 2020 16:37:36 +0900</lastbuilddate><total>1055</total><start>1</start><display>10</display><item><title>Step by Step &lt;b&gt;파이썬&lt;/b&gt; 비즈니스 통계분석</title><link/>http://book.naver.com/bookdb/book_detail.php?bid=16369368<image/>https://bookthumb-phinf.pstatic.net/cover/163/693/16369368.jpg?type=m1&amp;udate=20200605<author>김형수</author><price>32000</price><discount>28800</discount><publisher>프레딕스</publisher><pubdate>20200725</pubdate><isbn>1195511752 9791195511754</isbn><description>비즈니스 관점에서 풀어 쓴 &lt;b&gt;파이썬&lt;/b&gt; 통계분석 지침서본서는 &lt;b&gt;파이썬&lt;/b&gt;을 전혀 모르는 사람도, 프로그래밍을 전혀 해보지 않은 사람도 단계적으로 (STEP BY STEP) 따라하다 보면 &lt;b&gt;파이썬&lt;/b&gt; 기반의 통계분석을 용이하게 다룰 수 있도록 도와주는 이론서이자 실무 지침서입니다. 따라서, 통계분석을 비즈니스에 적용하고자... </description></item><item><title>딥러닝 머신러닝을 위한 &lt;b&gt;파이썬&lt;/b&gt; 넘파이 (선형대수를 &lt;b&gt;파이썬&lt;/b&gt;으로 이해하기)</title><link/>http://book.naver.com/bookdb/book_detail.php?bid=16375998<image/>https://bookthumb-phinf.pstatic.net/cover/163/759/16375998.jpg?type=m1&amp;udate=20200609<author>문용준|문성혁</author><price>35000</price><discount>31500</discount><publisher>잇플ITPLE</publisher><pubdate>20200615</pubdate><isbn>1190283875 9791190283878</isbn><description>보통 이런 수학은 대학에 입학하면 선형대수로 배우고 &lt;b&gt;파이썬&lt;/b&gt;은 복잡한 수식을 쉽게 사용할 수 있도록 NUMPY 모듈을 제공합니다. \n",
       "선형대수는 벡터와... ■ &lt;b&gt;파이썬&lt;/b&gt;으로 분석 및 머신러닝에 사용하기 위해서는 반드시 한번은 읽고 가야 하는 책입니다. 이 책의 함수를 한 번씩 다 사용해 봤다면, SCIKIT-LEARN과... </description></item><item><title>내 일을 바꾸는 업무 자동화 (&lt;b&gt;파이썬&lt;/b&gt; 클릭 한 번으로 지겨운 업무 클리어)</title><link/>http://book.naver.com/bookdb/book_detail.php?bid=16374036<image/>https://bookthumb-phinf.pstatic.net/cover/163/740/16374036.jpg?type=m1&amp;udate=20200606<author>이태화</author><price>22000</price><discount>19800</discount><publisher>프리렉</publisher><pubdate>20200612</pubdate><isbn>8965402743 9788965402749</isbn><description>시간 귀한 줄 아는 당신을 위한 &lt;b&gt;파이썬&lt;/b&gt; 업무 자동화!\n",
       "현실적이고 흥미로운 실제 업무 시나리오로 빠르게 이해하고 적용하자!간단하지만 지겹고 번거로운 업무 때문에 여유가 없나요? 그렇다면 &lt;b&gt;파이썬&lt;/b&gt;으로... 이 책은 프로그래밍에 익숙하지 않은 일반인, 업무를 손쉽게 처리하고 싶은 회사원, &lt;b&gt;파이썬&lt;/b&gt; 혹은 업무... </description></item><item><title>백견불여일타 딥러닝 입문 with 텐서플로우 (실습에 집중한 딥러닝 입문서)</title><link/>http://book.naver.com/bookdb/book_detail.php?bid=16372480<image/>https://bookthumb-phinf.pstatic.net/cover/163/724/16372480.jpg?type=m1&amp;udate=20200603<author>조휘용</author><price>22000</price><discount>19800</discount><publisher>로드북</publisher><pubdate>20200608</pubdate><isbn>8997924583 9788997924585</isbn><description>이 책이 제시하는 학습 방법인, 데이터를 수집하고 모델을 만들며 학습을 시키는 패턴을 꾸준하게 반복 학습하다 보면 다음 단계로 나아가는 길을 찾을 수 있을 것이다.\n",
       "\n",
       "[샘플원고] WWW.ROADBOOK.CO.KR/234\n",
       "\n",
       "_대상 독자\n",
       "딥러닝을 처음 공부하고자 하는 학생이나 개발자\n",
       "선수지식: &lt;b&gt;파이썬&lt;/b&gt; 문법을 이해할 수 있어야 함</description></item><item><title>Tello Edu 드론코딩 A to Z</title><link/>http://book.naver.com/bookdb/book_detail.php?bid=16378135<image/>https://bookthumb-phinf.pstatic.net/cover/163/781/16378135.jpg?type=m1&amp;udate=20200609<author>김형준|김태훈|우현호|부유덕|서일수</author><price>18000</price><discount>16200</discount><publisher>구미서관</publisher><pubdate>20200608</pubdate><isbn>1162571160 9791162571163</isbn><description>텔로 드론은 사용자가 비행을 즐기는 동안 프로그래밍의 기초를 쉽게 배울 수 있도록 SCRATCH, 앱인벤터, SWIFT, PYTHON 등의 프로그래밍 언어를 통하여 코딩을 할 수 있게끔 만들어졌습니다.\n",
       "텔로 드론은 또한 간단한 블록기반 비주얼 프로그래밍도 가능합니다.\n",
       "이 책은 앞으로 우리가 관심 가져야 할 AI... </description></item><item><title>사물인터넷을 위한 인공지능 (더 스마트한 IoT 시스템을 개발하기 위한 고급 머신러닝/딥러닝 기법)</title><link/>http://book.naver.com/bookdb/book_detail.php?bid=16365628<image/>https://bookthumb-phinf.pstatic.net/cover/163/656/16365628.jpg?type=m1&amp;udate=20200526<author>아미타 카푸어 지음|박진수</author><price>28000</price><discount>25200</discount><publisher>위키북스</publisher><pubdate>20200602</pubdate><isbn>1158392060 9791158392062</isbn><description>이와 같은 사례를 살펴보는 과정에서 널리 사용되는 &lt;b&gt;파이썬&lt;/b&gt; 라이브러리와 텐서플로, 케라스가 제공하는 역량을 지렛대 삼아 다양한 인공지능 모델을 구축해 볼 것이다.\n",
       "\n",
       "이 책에서 다루는 내용을 다 이해하고 나면 스마트 인공지능 기반 사물인터넷 애플리케이션을 만들 수 있을 것이다.</description></item><item><title>&lt;b&gt;파이썬&lt;/b&gt; 입문 (예제 중심)</title><link/>http://book.naver.com/bookdb/book_detail.php?bid=16328732<image/>https://bookthumb-phinf.pstatic.net/cover/163/287/16328732.jpg?type=m1&amp;udate=20200424<author>황재호</author><price>25000</price><discount>22500</discount><publisher>인포앤북</publisher><pubdate>20200601</pubdate><isbn>1196440921 9791196440923</isbn><description>알지만 &lt;b&gt;파이썬&lt;/b&gt;은 처음인 분을 대상으로 내용이 구성되었습니다. 이 책은 두 단계로 구성되어 있습니다. 첫 단계에서는 변수, 데이터 형, 조건문, 반복문, 함수, 리스트, 튜플, 딕셔너리, 객체지향 등의 &lt;b&gt;파이썬&lt;/b&gt; 기초를 익힙니다. 그리고 두 번째 단계에서는 NUMPY, PANDAS, MATPLOTLIB의 &lt;b&gt;파이썬&lt;/b&gt; 패키지를 이용하여... </description></item><item><title>딥러닝과 바둑 (알파고를 능가하는 바둑봇을 만들며 익히는 딥러닝, 강화학습)</title><link/>http://book.naver.com/bookdb/book_detail.php?bid=16362170<image/>https://bookthumb-phinf.pstatic.net/cover/163/621/16362170.jpg?type=m1&amp;udate=20200605<author>막스 펌펄라|케빈 퍼거슨</author><price>36000</price><discount>32400</discount><publisher>한빛미디어</publisher><pubdate>20200601</pubdate><isbn>1162243155 9791162243152</isbn><description>고성능 바둑봇을 만드는 방법은 생각만큼 어렵지 않다. 첫째, &lt;b&gt;파이썬&lt;/b&gt; 딥러닝 라이브러리인 케라스를 사용해 훈련 기법과 전략을 적용한다. 둘째, 바둑봇이 스스로 바둑을 익히는 것을 즐겁게 지켜본다. 자세한 방법은 이 책에 있다. 이 책을 탐독해 바둑봇을 만들며 익힌 딥러닝 기술을 널리 활용하기 바란다.</description></item><item><title>비즈니스 머신러닝 in &lt;b&gt;파이썬&lt;/b&gt;(Step by Step)</title><link/>http://book.naver.com/bookdb/book_detail.php?bid=16345889<image/>https://bookthumb-phinf.pstatic.net/cover/163/458/16345889.jpg?type=m1&amp;udate=20200602<author>김형수</author><price>32000</price><discount>28800</discount><publisher>프레딕스</publisher><pubdate>20200530</pubdate><isbn>1195511744 9791195511747</isbn><description>비즈니스 관점에서 풀어 쓴 &lt;b&gt;파이썬&lt;/b&gt; 머신러닝 지침서본서는 &lt;b&gt;파이썬&lt;/b&gt;을 전혀 모르는 사람도, 프로그래밍을 전혀 해보지 않은 사람도 단계적으로 (STEP BY STEP) 따라하다 보면 &lt;b&gt;파이썬&lt;/b&gt; 기반의 머신러닝을 용이하게 다룰 수 있도록 도와주는 이론서이자 실무 지침서입니다. 컴퓨터공학이나 수학적인 관점에서 집필된... </description></item><item><title>나만의 스마트워크 환경 만들기 (&lt;b&gt;파이썬&lt;/b&gt;으로 만드는 업무 자동화 프로그램)</title><link/>http://book.naver.com/bookdb/book_detail.php?bid=16365604<image/>https://bookthumb-phinf.pstatic.net/cover/163/656/16365604.jpg?type=m1&amp;udate=20200606<author>박찬성</author><price>27500</price><discount>24750</discount><publisher>비제이퍼블릭</publisher><pubdate>20200529</pubdate><isbn>1190014971 9791190014977</isbn><description>&lt;b&gt;파이썬&lt;/b&gt;의 다양한 활용으로 일의 결과가 바뀌는\n",
       "스마트워크 환경을 조성해보자!세상은 점점 더... 이 책은 대중적이며 가볍지만, 매우 강력한 &lt;b&gt;파이썬&lt;/b&gt;으로 문서의 조작, 인터넷 자료의 수집, 정해진... 이 책의 특징\n",
       "- &lt;b&gt;파이썬&lt;/b&gt;의 기본기를 습득할 수 있다.\n",
       "- 워드, 엑셀 형태의 문서를 조작해볼 수 있다.\n",
       "- 가볍게... </description></item></channel></rss>"
      ]
     },
     "execution_count": 29,
     "metadata": {},
     "output_type": "execute_result"
    }
   ],
   "source": [
    "from bs4 import BeautifulSoup\n",
    "soup = BeautifulSoup(response.text)\n",
    "soup"
   ]
  },
  {
   "cell_type": "markdown",
   "metadata": {},
   "source": [
    "### book"
   ]
  },
  {
   "cell_type": "code",
   "execution_count": 32,
   "metadata": {},
   "outputs": [
    {
     "data": {
      "text/plain": [
       "<item><title>Step by Step &lt;b&gt;파이썬&lt;/b&gt; 비즈니스 통계분석</title><link/>http://book.naver.com/bookdb/book_detail.php?bid=16369368<image/>https://bookthumb-phinf.pstatic.net/cover/163/693/16369368.jpg?type=m1&amp;udate=20200605<author>김형수</author><price>32000</price><discount>28800</discount><publisher>프레딕스</publisher><pubdate>20200725</pubdate><isbn>1195511752 9791195511754</isbn><description>비즈니스 관점에서 풀어 쓴 &lt;b&gt;파이썬&lt;/b&gt; 통계분석 지침서본서는 &lt;b&gt;파이썬&lt;/b&gt;을 전혀 모르는 사람도, 프로그래밍을 전혀 해보지 않은 사람도 단계적으로 (STEP BY STEP) 따라하다 보면 &lt;b&gt;파이썬&lt;/b&gt; 기반의 통계분석을 용이하게 다룰 수 있도록 도와주는 이론서이자 실무 지침서입니다. 따라서, 통계분석을 비즈니스에 적용하고자... </description></item>"
      ]
     },
     "execution_count": 32,
     "metadata": {},
     "output_type": "execute_result"
    }
   ],
   "source": [
    "book_one = soup.select_one('item')\n",
    "book_one"
   ]
  },
  {
   "cell_type": "code",
   "execution_count": 33,
   "metadata": {},
   "outputs": [
    {
     "name": "stdout",
     "output_type": "stream",
     "text": [
      "Step by Step 파이썬 비즈니스 통계분석 32000 28800\n"
     ]
    }
   ],
   "source": [
    "title_b = book_one.select_one('title').text\n",
    "title = title_b.replace('<b>','').replace('</b>','')\n",
    "price = book_one.select_one('price').text\n",
    "discount = book_one.select_one('discount').text\n",
    "print(title,price,discount)"
   ]
  },
  {
   "cell_type": "code",
   "execution_count": 35,
   "metadata": {},
   "outputs": [
    {
     "name": "stdout",
     "output_type": "stream",
     "text": [
      "Step by Step 파이썬 비즈니스 통계분석 32000 28800\n",
      "딥러닝 머신러닝을 위한 파이썬 넘파이 (선형대수를 파이썬으로 이해하기) 35000 31500\n",
      "내 일을 바꾸는 업무 자동화 (파이썬 클릭 한 번으로 지겨운 업무 클리어) 22000 19800\n",
      "백견불여일타 딥러닝 입문 with 텐서플로우 (실습에 집중한 딥러닝 입문서) 22000 19800\n",
      "Tello Edu 드론코딩 A to Z 18000 16200\n",
      "사물인터넷을 위한 인공지능 (더 스마트한 IoT 시스템을 개발하기 위한 고급 머신러닝/딥러닝 기법) 28000 25200\n",
      "파이썬 입문 (예제 중심) 25000 22500\n",
      "딥러닝과 바둑 (알파고를 능가하는 바둑봇을 만들며 익히는 딥러닝, 강화학습) 36000 32400\n",
      "비즈니스 머신러닝 in 파이썬(Step by Step) 32000 28800\n",
      "나만의 스마트워크 환경 만들기 (파이썬으로 만드는 업무 자동화 프로그램) 27500 24750\n"
     ]
    }
   ],
   "source": [
    "book_all = soup.select('item')\n",
    "for book_one in book_all:\n",
    "    title_b = book_one.select_one('title').text\n",
    "    title = title_b.replace('<b>','').replace('</b>','')\n",
    "    price = book_one.select_one('price').text\n",
    "    discount = book_one.select_one('discount').text\n",
    "    print(title,price,discount)"
   ]
  },
  {
   "cell_type": "markdown",
   "metadata": {},
   "source": [
    "### blog"
   ]
  },
  {
   "cell_type": "code",
   "execution_count": 36,
   "metadata": {},
   "outputs": [],
   "source": [
    "#XML\n",
    "url = 'https://openapi.naver.com/v1/search/blog.xml'\n",
    "params = {'query':'파이썬',\n",
    "          'display':'10',\n",
    "          'strart':'1',\n",
    "          'sort':'date'}\n",
    "request.add_header(\"X-Naver-Client-Id\",client_id)\n",
    "request.add_header(\"X-Naver-Client-Secret\",client_secret)\n",
    "\n",
    "headers = {\n",
    "    'X-Naver-Client-Id':client_id,\n",
    "    'X-Naver-Client-Secret':client_secret\n",
    "}\n",
    "response = requests.get(url,headers=headers, params=params)"
   ]
  },
  {
   "cell_type": "code",
   "execution_count": 37,
   "metadata": {
    "collapsed": true
   },
   "outputs": [
    {
     "data": {
      "text/plain": [
       "<?xml version=\"1.0\" encoding=\"UTF-8\"?><rss version=\"2.0\"><channel><title>Naver Open API - blog ::'파이썬'</title><link/>https://search.naver.com<description>Naver Search Result</description><lastbuilddate>Tue, 09 Jun 2020 17:02:59 +0900</lastbuilddate><total>154226</total><start>1</start><display>10</display><item><title>빅데이터전문교육 학원에서 통계 분석 코딩 공부하고 빅데이터... </title><link/>https://blog.naver.com/pang1004w?Redirect=Log&amp;logNo=221995107803<description>빅데이터&lt;b&gt;파이썬&lt;/b&gt; 분석 통계 기초부터 하둡, R프로그래밍까지 공부할 수 있는 교육과정에 대해... 하둡프로그래밍은 프로그래밍언어인 &lt;b&gt;파이썬&lt;/b&gt;과 자바 기초지식 습득 후 진행해야 합니다. 빅데이터 분야 취업을... </description><bloggername>pang1004w님의 블로그</bloggername><bloggerlink>https://blog.naver.com/pang1004w</bloggerlink><postdate>20200609</postdate></item><item><title>프로그래머 종류 ::: 개발자 IT취업 준비하는 방법</title><link/>https://blog.naver.com/limhas999?Redirect=Log&amp;logNo=221995105798<description>각설하고, 앱 개발자는 우선 C언어나 &lt;b&gt;파이썬&lt;/b&gt; 등을 선행해 프로그래밍에 대한 이해를 하신 후에 Java를 공부하시는 것이 좋습니다. 현재 우리나라 앱시장은 안드로이드가 점유율이 높기 때문에, Java가... </description><bloggername>임군 상담소</bloggername><bloggerlink>https://blog.naver.com/limhas999</bloggerlink><postdate>20200609</postdate></item><item><title>&lt;b&gt;파이썬&lt;/b&gt;  12</title><link/>https://blog.naver.com/shdbswp5754?Redirect=Log&amp;logNo=221995106251<description>2의 배수 3의 배수 모두 출력 for i in range(1, 21, 1): if i%2==0 or i%3==0: print(i) 2 3 4 6 8 9 10 12 14 15 16 18 20</description><bloggername>슬기로운 컴퓨터생활</bloggername><bloggerlink>https://blog.naver.com/shdbswp5754</bloggerlink><postdate>20200609</postdate></item><item><title>#89 요술램프 속 일상</title><link/>https://blog.naver.com/jeanie5?Redirect=Log&amp;logNo=221995097184<description>내가 전공자가 맞나 회의감이 든다 전공자만 신청할 수 있는 수업인 줄 알았는데 대부분이 비전공자이고 &lt;b&gt;파이썬&lt;/b&gt; 가위바위보나 만들고 이게 어렵다고 선생님한테 징징댄다 전공자가 국비교육 듣는다고 하면... </description><bloggername>요술램프 지니</bloggername><bloggerlink>https://blog.naver.com/jeanie5</bloggerlink><postdate>20200609</postdate></item><item><title>[단계별로 풀어보기] 03. for문 - 2742번(&lt;b&gt;파이썬&lt;/b&gt;/python)</title><link/>https://blog.naver.com/zizz1357?Redirect=Log&amp;logNo=221995098255<description>[2742] 기찍 N https://www.acmicpc.net/problem/2742 2742번: 기찍 N 2742번 제출 맞은 사람 숏코딩 재채점/수정 채점 현황 강의 기찍 N 분류 시간 제한 메모리 제한 제출 정답 맞은 사람 정답 비율... </description><bloggername>공부로그</bloggername><bloggerlink>https://blog.naver.com/zizz1357</bloggerlink><postdate>20200609</postdate></item><item><title>자바프로그래밍학원 교육순서를 알고 시작해야하는 이유</title><link/>https://blog.naver.com/sukmania2?Redirect=Log&amp;logNo=221995096180<description>수업에 &lt;b&gt;파이썬&lt;/b&gt;,c언어,자바 등 다른 언어를 한곳에 모아놓고 수업을 진행하다보니 학생들도 혼란이 오고 헷갈려서 집중해서 하나를 배우기가 힘들어집니다 자바프로그래밍학원은 차별화를 두어서 상담이... </description><bloggername>All in my dream♪</bloggername><bloggerlink>https://blog.naver.com/sukmania2</bloggerlink><postdate>20200609</postdate></item><item><title>자바배우기 어플리케이션개발 기초부터 심화</title><link/>https://blog.naver.com/jieunhan125?Redirect=Log&amp;logNo=221995093606<description>자바배우기 3단계 - 프레임워크 - Spring 프레임워크(Framework) - SW개발에 필요한 환경 Spring - 자바 프레임워크의 일종 &lt;b&gt;파이썬&lt;/b&gt;의 프레임워크에는 디장고(Django)가 있고 자바의 프레임워크에는 스프링(Spring)... </description><bloggername>파이리</bloggername><bloggerlink>https://blog.naver.com/jieunhan125</bloggerlink><postdate>20200609</postdate></item><item><title>부산자바학원 자바스크립트 교육과정 굿</title><link/>https://blog.naver.com/mnibgc1?Redirect=Log&amp;logNo=221995092232<description>자바나 &lt;b&gt;파이썬&lt;/b&gt; , C언어 등. 우선 자바와 자바스크립트에 대해 간혹 헷갈려 하시는 분들이 있더라구요 저도 처음에 그랬으니, 차이점을 알고 가볼까 해요 ! 두가지 모두 객체지향 언어이기는 하나 자바스크립트는... </description><bloggername>mnibgc1님의블로그</bloggername><bloggerlink>https://blog.naver.com/mnibgc1</bloggerlink><postdate>20200609</postdate></item><item><title>&lt;b&gt;파이썬&lt;/b&gt; 11</title><link/>https://blog.naver.com/shdbswp5754?Redirect=Log&amp;logNo=221995090986<description>숫자 2개를 입력 받아서 첫 번째 숫자와 두 번 째 숫자 까지의 수를 모두 출력 a = int(input('숫자1 :')) aa = int(input('숫자2 :')) if a&amp;gt;b: a, b = b, a for a in range(a, aa+1, 1) : print(a)... </description><bloggername>슬기로운 컴퓨터생활</bloggername><bloggerlink>https://blog.naver.com/shdbswp5754</bloggerlink><postdate>20200609</postdate></item><item><title>C언어알고리즘 / 자료구조 1개월 완성반 학원 추천!</title><link/>https://blog.naver.com/ititbank?Redirect=Log&amp;logNo=221995077265<description>#KG아이티뱅크 #KGITBANK C언어알고리즘 학원은 C언어, 자료구조를 포함한 &lt;b&gt;파이썬&lt;/b&gt;, C++, 자바 등의 전반적인 프로그래밍 과정과 함께 서버, 네트워크, 데이터베이스, 빅데이터, 정보보안, 해킹 전문적인 IT분야의... </description><bloggername>멘토 아티</bloggername><bloggerlink>https://blog.naver.com/ititbank</bloggerlink><postdate>20200609</postdate></item></channel></rss>"
      ]
     },
     "execution_count": 37,
     "metadata": {},
     "output_type": "execute_result"
    }
   ],
   "source": [
    "from bs4 import BeautifulSoup\n",
    "soup = BeautifulSoup(response.text)\n",
    "soup"
   ]
  },
  {
   "cell_type": "code",
   "execution_count": 38,
   "metadata": {},
   "outputs": [
    {
     "data": {
      "text/plain": [
       "<item><title>빅데이터전문교육 학원에서 통계 분석 코딩 공부하고 빅데이터... </title><link/>https://blog.naver.com/pang1004w?Redirect=Log&amp;logNo=221995107803<description>빅데이터&lt;b&gt;파이썬&lt;/b&gt; 분석 통계 기초부터 하둡, R프로그래밍까지 공부할 수 있는 교육과정에 대해... 하둡프로그래밍은 프로그래밍언어인 &lt;b&gt;파이썬&lt;/b&gt;과 자바 기초지식 습득 후 진행해야 합니다. 빅데이터 분야 취업을... </description><bloggername>pang1004w님의 블로그</bloggername><bloggerlink>https://blog.naver.com/pang1004w</bloggerlink><postdate>20200609</postdate></item>"
      ]
     },
     "execution_count": 38,
     "metadata": {},
     "output_type": "execute_result"
    }
   ],
   "source": [
    "blog_one = soup.select_one('item')\n",
    "blog_one"
   ]
  },
  {
   "cell_type": "code",
   "execution_count": 41,
   "metadata": {},
   "outputs": [
    {
     "name": "stdout",
     "output_type": "stream",
     "text": [
      "빅데이터전문교육 학원에서 통계 분석 코딩 공부하고 빅데이터...  pang1004w님의 블로그 https://blog.naver.com/pang1004w\n"
     ]
    }
   ],
   "source": [
    "title = blog_one.select_one('title').text\n",
    "bloggername = blog_one.select_one('bloggername').text\n",
    "bloggerlink = blog_one.select_one('bloggerlink').text\n",
    "print(title,bloggername,bloggerlink)"
   ]
  },
  {
   "cell_type": "code",
   "execution_count": 43,
   "metadata": {
    "collapsed": true
   },
   "outputs": [
    {
     "name": "stdout",
     "output_type": "stream",
     "text": [
      "빅데이터전문교육 학원에서 통계 분석 코딩 공부하고 빅데이터...  pang1004w님의 블로그 https://blog.naver.com/pang1004w\n",
      "프로그래머 종류 ::: 개발자 IT취업 준비하는 방법 임군 상담소 https://blog.naver.com/limhas999\n",
      "<b>파이썬</b>  12 슬기로운 컴퓨터생활 https://blog.naver.com/shdbswp5754\n",
      "#89 요술램프 속 일상 요술램프 지니 https://blog.naver.com/jeanie5\n",
      "[단계별로 풀어보기] 03. for문 - 2742번(<b>파이썬</b>/python) 공부로그 https://blog.naver.com/zizz1357\n",
      "자바프로그래밍학원 교육순서를 알고 시작해야하는 이유 All in my dream♪ https://blog.naver.com/sukmania2\n",
      "자바배우기 어플리케이션개발 기초부터 심화 파이리 https://blog.naver.com/jieunhan125\n",
      "부산자바학원 자바스크립트 교육과정 굿 mnibgc1님의블로그 https://blog.naver.com/mnibgc1\n",
      "<b>파이썬</b> 11 슬기로운 컴퓨터생활 https://blog.naver.com/shdbswp5754\n",
      "C언어알고리즘 / 자료구조 1개월 완성반 학원 추천! 멘토 아티 https://blog.naver.com/ititbank\n"
     ]
    }
   ],
   "source": [
    "blog_all = soup.select('item')\n",
    "for blog_one in blog_all:\n",
    "    title = blog_one.select_one('title').text\n",
    "    bloggername = blog_one.select_one('bloggername').text\n",
    "    bloggerlink = blog_one.select_one('bloggerlink').text\n",
    "    print(title,bloggername,bloggerlink)"
   ]
  },
  {
   "cell_type": "markdown",
   "metadata": {},
   "source": [
    "### news"
   ]
  },
  {
   "cell_type": "code",
   "execution_count": 44,
   "metadata": {},
   "outputs": [],
   "source": [
    "#XML\n",
    "url = 'https://openapi.naver.com/v1/search/news.xml'\n",
    "params = {'query':'파이썬',\n",
    "          'display':'10',\n",
    "          'strart':'1',\n",
    "          'sort':'date'}\n",
    "request.add_header(\"X-Naver-Client-Id\",client_id)\n",
    "request.add_header(\"X-Naver-Client-Secret\",client_secret)\n",
    "\n",
    "headers = {\n",
    "    'X-Naver-Client-Id':client_id,\n",
    "    'X-Naver-Client-Secret':client_secret\n",
    "}\n",
    "response = requests.get(url,headers=headers, params=params)"
   ]
  },
  {
   "cell_type": "code",
   "execution_count": 45,
   "metadata": {
    "collapsed": true
   },
   "outputs": [
    {
     "data": {
      "text/plain": [
       "<?xml version=\"1.0\" encoding=\"UTF-8\"?><rss version=\"2.0\"><channel><title>Naver Open API - news ::'파이썬'</title><link/>https://search.naver.com<description>Naver Search Result</description><lastbuilddate>Tue, 09 Jun 2020 18:12:33 +0900</lastbuilddate><total>7830</total><start>1</start><display>10</display><item><title>강남 이젠아이티 컴퓨터학원 &amp;quot;車중심 자동화 시스템공정 스마트팩토리 주목&amp;quot;</title><originallink>http://www.gpkorea.com/news/articleView.html?idxno=64851</originallink><link/>http://www.gpkorea.com/news/articleView.html?idxno=64851<description>각 공정 단계에서 수집되는 데이터들을 &lt;b&gt;파이썬&lt;/b&gt;(Python)과 빅데이터를 활용해 분석하고 사물인터넷 센서... 이러한 취지로 강남 이젠아이티(IT)컴퓨터학원은 ▶&amp;lt;스마트팩토리 자동차 중심 자동화 시스템 공정(&lt;b&gt;파이썬&lt;/b&gt;... </description><pubdate>Tue, 09 Jun 2020 17:20:00 +0900</pubdate></item><item><title>현장 맞춤형 비대면 데이터·AI 교육…영국 사우스햄턴대학 개발</title><originallink>http://www.etnews.com/20200609000122</originallink><link/>https://news.naver.com/main/read.nhn?mode=LSD&amp;mid=sec&amp;sid1=105&amp;oid=030&amp;aid=0002887077<description>필요한데…' '개발팀의 &lt;b&gt;파이썬&lt;/b&gt; 기반 데이터 분석 역량을 높여야 하는데…' 최근 기업과 기관 최대 고민인... 전자신문 교육법인 이티에듀는 데이터 사이언스 분석 과정, 데이터 사이언스 &lt;b&gt;파이썬&lt;/b&gt; 프로그래밍 과정... </description><pubdate>Tue, 09 Jun 2020 17:02:00 +0900</pubdate></item><item><title>IT서비스학회 춘계학술대회 17일 개최...박원순 시장 스마트서울 발표</title><originallink>https://www.zdnet.co.kr/view/?no=20200609164742</originallink><link/>https://news.naver.com/main/read.nhn?mode=LSD&amp;mid=sec&amp;sid1=105&amp;oid=092&amp;aid=0002190744<description>학생들을 위한 &lt;b&gt;파이썬&lt;/b&gt; 기반 머신러닝 튜토리얼도 준비했다. 임규건 한국IT서비스학회장은 &amp;quot;2020 춘계학술대회는 포스트 코로나 시대의 스마트 사회를 구현하는데 IT서비스 관련 산업이 역할과 공감대를 만들어가는... </description><pubdate>Tue, 09 Jun 2020 17:02:00 +0900</pubdate></item><item><title>[우수 SW중심대학을 만나다]〈3〉한양대, SW를 학교 대표 전공으로 발전</title><originallink>http://www.etnews.com/20200609000119</originallink><link/>https://news.naver.com/main/read.nhn?mode=LSD&amp;mid=sec&amp;sid1=105&amp;oid=030&amp;aid=0002887074<description>전교생 대상 교육은 컴퓨팅 사고력, &lt;b&gt;파이썬&lt;/b&gt; 프로그래밍 등 5학점에 해당되는 SW 교과목을 개설해 연 5300명 학생이 수강했다. 융합교육으로 자동차·SW융합전공, 빅데이터 융합전공, 바이오·융합전공을 신설, 운영한다.... </description><pubdate>Tue, 09 Jun 2020 17:02:00 +0900</pubdate></item><item><title>우버, 뉴로팟 오픈소싱...멀티 딥러닝 프레임워크 환경 통합</title><originallink>http://www.aitimes.com/news/articleView.html?idxno=129262</originallink><link/>http://www.aitimes.com/news/articleView.html?idxno=129262<description>예를 들어 사용자가 C++에서 파이토치 모델을 실행하려 한다면 뉴로팟은 &lt;b&gt;파이썬&lt;/b&gt; 번역기를 돌려 모델이 돌아가게 할 것이다. 뉴로팟은 현재 모델을 메타데이터ㆍ테스트 데이터ㆍ사용자 정의 연산 등과 오리지널 모델을... </description><pubdate>Tue, 09 Jun 2020 16:06:00 +0900</pubdate></item><item><title>그린컴퓨터학원, 최대 50% 할인 받을 수 있는 방학특강 과정 개설</title><originallink>http://www.irobotnews.com/news/articleView.html?idxno=21013</originallink><link/>http://www.irobotnews.com/news/articleView.html?idxno=21013<description>자바, &lt;b&gt;파이썬&lt;/b&gt;) △OA(엑셀, 파워포인트, 워드, 엑세스) △자격증(컴퓨터그래픽스, GTQ, ATC, 컴퓨터활용능력... 입문과정 △자바, &lt;b&gt;파이썬&lt;/b&gt; 활용 빅데이터 UI 전문가 양성과정 △회계, 세무 중급관리자(전산세무회계, TAT)... </description><pubdate>Tue, 09 Jun 2020 15:20:00 +0900</pubdate></item><item><title>기술력 업! 무료 온라인 교육 과정 사이트 12선</title><originallink>http://www.ciokorea.com/news/154792</originallink><link/>http://www.ciokorea.com/news/154792<description>코드아카데미 코드아카데미(Codeacademy)는 &lt;b&gt;파이썬&lt;/b&gt;, 루비, 자바, 자바스크립트, 제이쿼리(jQuery), 리액트.js... 프로그래밍의 기본 사항에 대한 과정을 수강하고 &lt;b&gt;파이썬&lt;/b&gt;, C, 자바와 같은 다양한 프로그래밍 언어 목록... </description><pubdate>Tue, 09 Jun 2020 12:02:00 +0900</pubdate></item><item><title>아시아경제 교육센터, 빅데이터 산업전문가 양성과정 훈련생 모집</title><originallink>https://view.asiae.co.kr/article/2020060911341129124</originallink><link/>https://news.naver.com/main/read.nhn?mode=LSD&amp;mid=sec&amp;sid1=101&amp;oid=277&amp;aid=0004694828<description>빅데이터 기술은 &lt;b&gt;파이썬&lt;/b&gt;(Python) 기반의 프로그래밍을 통해 목적에 맞는 대량의 데이터를 수집, 분석하여... &lt;b&gt;파이썬&lt;/b&gt;(Python) 프로그래밍 언어를 기반으로 데이터수집, 통계, 머신러닝, 딥러닝 및 산업 데이터 분석 실습 및... </description><pubdate>Tue, 09 Jun 2020 11:33:00 +0900</pubdate></item><item><title>한국 상륙-6개국에서 열린 어린이 코딩대회, 신한카드와 한국공학한림원 지원</title><originallink>http://www.ccdailynews.com/news/articleView.html?idxno=1071350</originallink><link/>http://www.ccdailynews.com/news/articleView.html?idxno=1071350<description>&amp;quot;이를 통해 학생들은 블록코딩부터 텍스트코딩, &lt;b&gt;파이썬&lt;/b&gt;까지 코딩교육에 필요한 지식을 쉽고 재미있게 배울 수 있다&amp;quot;라고 담당자는 밝혔다. 이번 행사에서 주목해야할 점은 바로 국내 3대 카드사 중 한 곳인 '신한카드... </description><pubdate>Tue, 09 Jun 2020 11:10:00 +0900</pubdate></item><item><title>국립중앙과학관, 신규 인공지능(AI) 체험교육 본격 착수</title><originallink>http://www.boannews.com/media/view.asp?idx=88803&amp;kind=2</originallink><link/>http://www.boannews.com/media/view.asp?idx=88803&amp;kind=2<description>각 동아리는 초급(블록으로 인공지능 스피커 만들기), 중급(&lt;b&gt;파이썬&lt;/b&gt;으로 인공지능 스피커 만들기), 고급(딥러닝 이해하기) 등 3개 과정 중 1개 과정을 선택 후 원하는 날짜와 시간에 과학관을 방문(최대 3회)해 체험교육을... </description><pubdate>Tue, 09 Jun 2020 11:04:00 +0900</pubdate></item></channel></rss>"
      ]
     },
     "execution_count": 45,
     "metadata": {},
     "output_type": "execute_result"
    }
   ],
   "source": [
    "from bs4 import BeautifulSoup\n",
    "soup = BeautifulSoup(response.text)\n",
    "soup"
   ]
  },
  {
   "cell_type": "code",
   "execution_count": 54,
   "metadata": {
    "scrolled": true
   },
   "outputs": [
    {
     "data": {
      "text/plain": [
       "<item><title>강남 이젠아이티 컴퓨터학원 &amp;quot;車중심 자동화 시스템공정 스마트팩토리 주목&amp;quot;</title><originallink>http://www.gpkorea.com/news/articleView.html?idxno=64851</originallink><link/>http://www.gpkorea.com/news/articleView.html?idxno=64851<description>각 공정 단계에서 수집되는 데이터들을 &lt;b&gt;파이썬&lt;/b&gt;(Python)과 빅데이터를 활용해 분석하고 사물인터넷 센서... 이러한 취지로 강남 이젠아이티(IT)컴퓨터학원은 ▶&amp;lt;스마트팩토리 자동차 중심 자동화 시스템 공정(&lt;b&gt;파이썬&lt;/b&gt;... </description><pubdate>Tue, 09 Jun 2020 17:20:00 +0900</pubdate></item>"
      ]
     },
     "execution_count": 54,
     "metadata": {},
     "output_type": "execute_result"
    }
   ],
   "source": [
    "news_one = soup.select_one('item')\n",
    "news_one"
   ]
  },
  {
   "cell_type": "code",
   "execution_count": 60,
   "metadata": {},
   "outputs": [
    {
     "name": "stdout",
     "output_type": "stream",
     "text": [
      "강남 이젠아이티 컴퓨터학원 ;車중심 자동화 시스템공정 스마트팩토리 주목; http://www.gpkorea.com/news/articleView.html?idxno=64851 Tue, 09 Jun 2020 17:20:00 +0900\n"
     ]
    }
   ],
   "source": [
    "title_b = news_one.select_one('title').text\n",
    "title = title_b.replace('&quot','')\n",
    "originallink = news_one.select_one('originallink').text\n",
    "pubdate = news_one.select_one('pubdate').text\n",
    "print(title,originallink,pubdate)"
   ]
  },
  {
   "cell_type": "code",
   "execution_count": 61,
   "metadata": {},
   "outputs": [
    {
     "name": "stdout",
     "output_type": "stream",
     "text": [
      "강남 이젠아이티 컴퓨터학원 ;車중심 자동화 시스템공정 스마트팩토리 주목; http://www.gpkorea.com/news/articleView.html?idxno=64851 Tue, 09 Jun 2020 17:20:00 +0900\n",
      "현장 맞춤형 비대면 데이터·AI 교육…영국 사우스햄턴대학 개발 http://www.etnews.com/20200609000122 Tue, 09 Jun 2020 17:02:00 +0900\n",
      "IT서비스학회 춘계학술대회 17일 개최...박원순 시장 스마트서울 발표 https://www.zdnet.co.kr/view/?no=20200609164742 Tue, 09 Jun 2020 17:02:00 +0900\n",
      "[우수 SW중심대학을 만나다]〈3〉한양대, SW를 학교 대표 전공으로 발전 http://www.etnews.com/20200609000119 Tue, 09 Jun 2020 17:02:00 +0900\n",
      "우버, 뉴로팟 오픈소싱...멀티 딥러닝 프레임워크 환경 통합 http://www.aitimes.com/news/articleView.html?idxno=129262 Tue, 09 Jun 2020 16:06:00 +0900\n",
      "그린컴퓨터학원, 최대 50% 할인 받을 수 있는 방학특강 과정 개설 http://www.irobotnews.com/news/articleView.html?idxno=21013 Tue, 09 Jun 2020 15:20:00 +0900\n",
      "기술력 업! 무료 온라인 교육 과정 사이트 12선 http://www.ciokorea.com/news/154792 Tue, 09 Jun 2020 12:02:00 +0900\n",
      "아시아경제 교육센터, 빅데이터 산업전문가 양성과정 훈련생 모집 https://view.asiae.co.kr/article/2020060911341129124 Tue, 09 Jun 2020 11:33:00 +0900\n",
      "한국 상륙-6개국에서 열린 어린이 코딩대회, 신한카드와 한국공학한림원 지원 http://www.ccdailynews.com/news/articleView.html?idxno=1071350 Tue, 09 Jun 2020 11:10:00 +0900\n",
      "국립중앙과학관, 신규 인공지능(AI) 체험교육 본격 착수 http://www.boannews.com/media/view.asp?idx=88803&kind=2 Tue, 09 Jun 2020 11:04:00 +0900\n"
     ]
    }
   ],
   "source": [
    "news_all = soup.select('item')\n",
    "for news_one in news_all:\n",
    "    title_b = news_one.select_one('title').text\n",
    "    title = title_b.replace('&quot','')\n",
    "    originallink = news_one.select_one('originallink').text\n",
    "    pubdate = news_one.select_one('pubdate').text\n",
    "    print(title,originallink,pubdate)"
   ]
  },
  {
   "cell_type": "code",
   "execution_count": null,
   "metadata": {},
   "outputs": [],
   "source": []
  }
 ],
 "metadata": {
  "kernelspec": {
   "display_name": "Python 3",
   "language": "python",
   "name": "python3"
  },
  "language_info": {
   "codemirror_mode": {
    "name": "ipython",
    "version": 3
   },
   "file_extension": ".py",
   "mimetype": "text/x-python",
   "name": "python",
   "nbconvert_exporter": "python",
   "pygments_lexer": "ipython3",
   "version": "3.7.7"
  }
 },
 "nbformat": 4,
 "nbformat_minor": 4
}
