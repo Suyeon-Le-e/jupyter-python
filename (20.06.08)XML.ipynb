{
 "cells": [
  {
   "cell_type": "code",
   "execution_count": 2,
   "metadata": {},
   "outputs": [],
   "source": [
    "import urllib.request as req\n",
    "from bs4 import BeautifulSoup\n",
    "import os.path\n",
    "import time"
   ]
  },
  {
   "cell_type": "markdown",
   "metadata": {},
   "source": [
    "기상청 주소 https://www.weather.go.kr/weather/lifenindustry/sevice_rss.jsp"
   ]
  },
  {
   "cell_type": "code",
   "execution_count": 3,
   "metadata": {},
   "outputs": [],
   "source": [
    "url = 'http://www.weather.go.kr/weather/forecast/mid-term-rss3.jsp?stnId=108'\n",
    "dt = time.strftime('%Y%m%d',time.localtime(time.time()))\n",
    "xml_file = 'forecast_{}.xml'.format(dt)"
   ]
  },
  {
   "cell_type": "code",
   "execution_count": null,
   "metadata": {},
   "outputs": [],
   "source": [
    "# xml 파일로 저장\n",
    "if not os.path.exists(xml_file) : \n",
    "    req.urlretrieve(url, xml_file)"
   ]
  },
  {
   "cell_type": "code",
   "execution_count": 8,
   "metadata": {},
   "outputs": [],
   "source": [
    "xml = open(xml_file, 'r' , encoding='utf-8').read()\n",
    "soup = BeautifulSoup(xml, 'html.parser')"
   ]
  },
  {
   "cell_type": "code",
   "execution_count": 12,
   "metadata": {},
   "outputs": [
    {
     "data": {
      "text/plain": [
       "'서울'"
      ]
     },
     "execution_count": 12,
     "metadata": {},
     "output_type": "execute_result"
    }
   ],
   "source": [
    "location = soup.select_one('location')\n",
    "location.select_one('city').text"
   ]
  },
  {
   "cell_type": "code",
   "execution_count": 13,
   "metadata": {},
   "outputs": [],
   "source": [
    "locations = soup.select('location')"
   ]
  },
  {
   "cell_type": "code",
   "execution_count": 17,
   "metadata": {},
   "outputs": [],
   "source": [
    "info = dict()\n",
    "for location in locations : \n",
    "    city = location.select_one('city').text\n",
    "    weather = location.select_one('wf').text\n",
    "    if not (weather in info):\n",
    "        info[weather] = []\n",
    "    info[weather].append(city)"
   ]
  },
  {
   "cell_type": "markdown",
   "metadata": {},
   "source": [
    "xml은 항목만 잘 찾으면 됨!!"
   ]
  },
  {
   "cell_type": "code",
   "execution_count": 18,
   "metadata": {
    "collapsed": true
   },
   "outputs": [
    {
     "data": {
      "text/plain": [
       "{'맑음': ['서울', '인천', '수원', '파주', '이천', '평택'],\n",
       " '구름많음': ['춘천', '원주', '강릉', '대전', '세종', '홍성', '청주', '충주', '영동'],\n",
       " '흐리고 비': ['광주',\n",
       "  '목포',\n",
       "  '여수',\n",
       "  '순천',\n",
       "  '광양',\n",
       "  '나주',\n",
       "  '전주',\n",
       "  '군산',\n",
       "  '정읍',\n",
       "  '남원',\n",
       "  '고창',\n",
       "  '무주',\n",
       "  '부산',\n",
       "  '울산',\n",
       "  '창원',\n",
       "  '진주',\n",
       "  '거창',\n",
       "  '통영',\n",
       "  '대구',\n",
       "  '안동',\n",
       "  '포항',\n",
       "  '경주',\n",
       "  '울진',\n",
       "  '울릉도',\n",
       "  '제주',\n",
       "  '서귀포']}"
      ]
     },
     "execution_count": 18,
     "metadata": {},
     "output_type": "execute_result"
    }
   ],
   "source": [
    "info"
   ]
  },
  {
   "cell_type": "markdown",
   "metadata": {},
   "source": [
    "### 생활정보 - 생활지수\n",
    "케이웨더 http://www.kweather.co.kr/forecast/forecast_living_jisu.html"
   ]
  },
  {
   "cell_type": "code",
   "execution_count": 21,
   "metadata": {},
   "outputs": [],
   "source": [
    "import requests\n",
    "from bs4 import BeautifulSoup"
   ]
  },
  {
   "cell_type": "code",
   "execution_count": 23,
   "metadata": {},
   "outputs": [],
   "source": [
    "url = 'http://www.kweather.co.kr/forecast/forecast_living_jisu.html'\n",
    "response = requests.get(url)"
   ]
  },
  {
   "cell_type": "code",
   "execution_count": 27,
   "metadata": {},
   "outputs": [],
   "source": [
    "soup = BeautifulSoup(response.text)\n",
    "# soup"
   ]
  },
  {
   "cell_type": "code",
   "execution_count": 49,
   "metadata": {},
   "outputs": [
    {
     "data": {
      "text/plain": [
       "\"javascript:startRequest('../data/JISU/11B00000.xml','1');\""
      ]
     },
     "execution_count": 49,
     "metadata": {},
     "output_type": "execute_result"
    }
   ],
   "source": [
    "ul = soup.select_one('#jisu_navi_content')\n",
    "a_href = ul.select_one('a')['href']\n",
    "a_href"
   ]
  },
  {
   "cell_type": "code",
   "execution_count": 53,
   "metadata": {},
   "outputs": [
    {
     "data": {
      "text/plain": [
       "'/data/JISU/11B00000.xml'"
      ]
     },
     "execution_count": 53,
     "metadata": {},
     "output_type": "execute_result"
    }
   ],
   "source": [
    "address1 = a_href.split('..')[1]\n",
    "address2 = address1.split(\"',\")[0]\n",
    "address2"
   ]
  },
  {
   "cell_type": "code",
   "execution_count": 54,
   "metadata": {},
   "outputs": [],
   "source": [
    "a_href_all = ul.select('a')\n",
    "xml_list = []\n",
    "for item in a_href_all:\n",
    "    a_href = item['href']\n",
    "    address1 = a_href.split('..')[1]\n",
    "    address2 = address1.split(\"',\")[0]\n",
    "    xml_list.append(address2)"
   ]
  },
  {
   "cell_type": "code",
   "execution_count": 55,
   "metadata": {},
   "outputs": [
    {
     "data": {
      "text/plain": [
       "['/data/JISU/11B00000.xml',\n",
       " '/data/JISU/11D10000.xml',\n",
       " '/data/JISU/11D20000.xml',\n",
       " '/data/JISU/11C10000.xml',\n",
       " '/data/JISU/11C20000.xml',\n",
       " '/data/JISU/11H10000.xml',\n",
       " '/data/JISU/11H20000.xml',\n",
       " '/data/JISU/11F10000.xml',\n",
       " '/data/JISU/11F20000.xml',\n",
       " '/data/JISU/11G00000.xml']"
      ]
     },
     "execution_count": 55,
     "metadata": {},
     "output_type": "execute_result"
    }
   ],
   "source": [
    "xml_list"
   ]
  },
  {
   "cell_type": "code",
   "execution_count": 56,
   "metadata": {},
   "outputs": [],
   "source": [
    "import re"
   ]
  },
  {
   "cell_type": "code",
   "execution_count": 58,
   "metadata": {},
   "outputs": [],
   "source": [
    "xml_re_list = []\n",
    "for item in a_href_all:\n",
    "    a_href = item['href']\n",
    "    info = re.search('/data/JISU/.+.xml',a_href)\n",
    "    xml_re_list.append(info.group())\n"
   ]
  },
  {
   "cell_type": "code",
   "execution_count": 59,
   "metadata": {},
   "outputs": [
    {
     "data": {
      "text/plain": [
       "['/data/JISU/11B00000.xml',\n",
       " '/data/JISU/11D10000.xml',\n",
       " '/data/JISU/11D20000.xml',\n",
       " '/data/JISU/11C10000.xml',\n",
       " '/data/JISU/11C20000.xml',\n",
       " '/data/JISU/11H10000.xml',\n",
       " '/data/JISU/11H20000.xml',\n",
       " '/data/JISU/11F10000.xml',\n",
       " '/data/JISU/11F20000.xml',\n",
       " '/data/JISU/11G00000.xml']"
      ]
     },
     "execution_count": 59,
     "metadata": {},
     "output_type": "execute_result"
    }
   ],
   "source": [
    "xml_re_list"
   ]
  },
  {
   "cell_type": "code",
   "execution_count": 60,
   "metadata": {},
   "outputs": [],
   "source": [
    "# 서울 / 경기\n",
    "url = 'http://www.kweather.co.kr/{}'.format(xml_list[0])"
   ]
  },
  {
   "cell_type": "code",
   "execution_count": 66,
   "metadata": {},
   "outputs": [],
   "source": [
    "response = requests.get(url)\n",
    "response.status_code\n",
    "response.encoding = None"
   ]
  },
  {
   "cell_type": "code",
   "execution_count": 68,
   "metadata": {},
   "outputs": [],
   "source": [
    "soup = BeautifulSoup(response.text)\n",
    "# soup"
   ]
  },
  {
   "cell_type": "code",
   "execution_count": 71,
   "metadata": {},
   "outputs": [
    {
     "name": "stdout",
     "output_type": "stream",
     "text": [
      "나들이 80 더워서 걱정이네요\n"
     ]
    }
   ],
   "source": [
    "jisu_name = soup.select_one('name').text\n",
    "jisu_jnum = soup.select_one('jnum').text\n",
    "jisu_jtext = soup.select_one('jtext').text\n",
    "print(jisu_name,jisu_jnum,jisu_jtext)"
   ]
  },
  {
   "cell_type": "code",
   "execution_count": 81,
   "metadata": {},
   "outputs": [
    {
     "name": "stdout",
     "output_type": "stream",
     "text": [
      "42\n"
     ]
    }
   ],
   "source": [
    "jisu_name_all = soup.select('name')\n",
    "jisu_jnum_all = soup.select('jnum')\n",
    "jisu_jtext_all = soup.select('jtext')\n",
    "print(len(jisu_name_all))"
   ]
  },
  {
   "cell_type": "code",
   "execution_count": 84,
   "metadata": {},
   "outputs": [
    {
     "data": {
      "text/plain": [
       "[('나들이', '80', '더워서 걱정이네요'),\n",
       " ('빨래', '90', '아주 잘 말라요'),\n",
       " ('세차', '90', '세차효과 길어요'),\n",
       " ('난방', '20', '난방 불필요해요'),\n",
       " ('불조심', '20', '소화기 점검은 평소에'),\n",
       " ('운동', '90', '컨디션이 좋습니다'),\n",
       " ('감기', '60', '저항력을 높이세요'),\n",
       " ('공해', '60', '대체로 좋은 편'),\n",
       " ('냉방', '60', '쾌적한 실내온도 유지하세요'),\n",
       " ('불쾌', '80', '마음의 폭을 넓히세요'),\n",
       " ('자외선', '80', '장시간 야외활동은 위험해요'),\n",
       " ('모기', '90', '모기 공격 조심'),\n",
       " ('부패', '40', '냉장보관이 안전해요'),\n",
       " ('골프', '80', '라운딩에 좋은 조건입니다.'),\n",
       " ('나들이', '70', '더위먹지 않도록 주의'),\n",
       " ('빨래', '90', '아주 잘 말라요'),\n",
       " ('세차', '90', '세차하기 좋은날'),\n",
       " ('난방', '20', '난방 불필요해요'),\n",
       " ('불조심', '20', '소화기 점검은 평소에'),\n",
       " ('운동', '90', '컨디션이 좋습니다'),\n",
       " ('감기', '60', '저항력을 높이세요'),\n",
       " ('공해', '60', '대체로 좋은 편'),\n",
       " ('냉방', '60', '적당한 냉방이 필요해요'),\n",
       " ('불쾌', '80', '말다툼은 금물'),\n",
       " ('자외선', '90', '장시간 야외활동은 위험해요'),\n",
       " ('모기', '40', '모기가 힘이 없어요'),\n",
       " ('부패', '60', '냉장고에 보관하세요'),\n",
       " ('골프', '80', '라운딩에 좋은 조건입니다.'),\n",
       " ('나들이', '70', '더위먹지 않도록 주의'),\n",
       " ('빨래', '70', '마르는데 지장 없어요'),\n",
       " ('세차', '90', '광택도 내보세요'),\n",
       " ('난방', '20', '난방은 필요없어요'),\n",
       " ('불조심', '20', '소화기 점검은 평소에'),\n",
       " ('운동', '70', '수분공급 충분히'),\n",
       " ('감기', '60', '저항력을 높이세요'),\n",
       " ('공해', '60', '대체로 좋은 편'),\n",
       " ('냉방', '60', '활동시간에는 꼭 냉방 필요'),\n",
       " ('불쾌', '80', '마음을 너그럽게 가지세요'),\n",
       " ('자외선', '90', '장시간 야외활동은 위험해요'),\n",
       " ('모기', '40', '모기가 힘이 없어요'),\n",
       " ('부패', '70', '부패 조심하세요'),\n",
       " ('골프', '80', '라운딩에 좋은 조건입니다.')]"
      ]
     },
     "execution_count": 84,
     "metadata": {},
     "output_type": "execute_result"
    }
   ],
   "source": [
    "jisu_sk_list = []\n",
    "for i in range(len(jisu_name_all)):\n",
    "    jisu_i = (jisu_name_all[i].text,\n",
    "               jisu_jnum_all[i].text,\n",
    "               jisu_jtext_all[i].text)\n",
    "    jisu_sk_list.append(jisu_i)\n",
    "    \n",
    "jisu_sk_list"
   ]
  },
  {
   "cell_type": "code",
   "execution_count": null,
   "metadata": {},
   "outputs": [],
   "source": []
  }
 ],
 "metadata": {
  "kernelspec": {
   "display_name": "Python 3",
   "language": "python",
   "name": "python3"
  },
  "language_info": {
   "codemirror_mode": {
    "name": "ipython",
    "version": 3
   },
   "file_extension": ".py",
   "mimetype": "text/x-python",
   "name": "python",
   "nbconvert_exporter": "python",
   "pygments_lexer": "ipython3",
   "version": "3.7.7"
  }
 },
 "nbformat": 4,
 "nbformat_minor": 4
}
