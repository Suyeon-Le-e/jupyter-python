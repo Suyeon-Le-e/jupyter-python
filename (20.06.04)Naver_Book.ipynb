{
 "cells": [
  {
   "cell_type": "markdown",
   "metadata": {},
   "source": [
    "# 네이버 책 검색기"
   ]
  },
  {
   "cell_type": "code",
   "execution_count": 1,
   "metadata": {},
   "outputs": [],
   "source": [
    "import requests\n",
    "from bs4 import BeautifulSoup"
   ]
  },
  {
   "cell_type": "code",
   "execution_count": 2,
   "metadata": {},
   "outputs": [],
   "source": [
    "# 주소작업\n",
    "url = 'https://book.naver.com/search/search.nhn'\n",
    "params = {'sm':'sta_hty.book',\n",
    "          'sug':'',\n",
    "          'where':'nexearch',\n",
    "          'query':'bigdata'}"
   ]
  },
  {
   "cell_type": "code",
   "execution_count": 4,
   "metadata": {},
   "outputs": [
    {
     "name": "stdout",
     "output_type": "stream",
     "text": [
      "200\n"
     ]
    }
   ],
   "source": [
    "# get 요청\n",
    "response = requests.get(url,params=params)\n",
    "status_code = response.status_code\n",
    "print(status_code)\n",
    "if status_code ==200:\n",
    "    text = response.text"
   ]
  },
  {
   "cell_type": "code",
   "execution_count": 6,
   "metadata": {},
   "outputs": [],
   "source": [
    "# str -> BeautifulSoup\n",
    "soup = BeautifulSoup(text)"
   ]
  },
  {
   "cell_type": "code",
   "execution_count": 10,
   "metadata": {},
   "outputs": [],
   "source": [
    "# 책 전체 정보 가져오기 ==> 크롬 개발자 도구\n",
    "book_all = soup.find(id = 'searchBiblioList')  #책 전체 목록(1개)\n",
    "# book_all = soup.select_one('#searchBiblioList')"
   ]
  },
  {
   "cell_type": "code",
   "execution_count": 14,
   "metadata": {},
   "outputs": [
    {
     "data": {
      "text/plain": [
       "<div class=\"thumb_type thumb_type2\">\n",
       "<a class=\"N=a:bls.thumb,r:1,i:98000001_000000000000000000ECC37F\" href=\"http://book.naver.com/bookdb/book_detail.nhn?bid=15516543\" target=\"_blank\">\n",
       "<img alt=\"KNIME을 활용한 Big Data분석\" onerror=\"this.src='https://ssl.pstatic.net/static/book/image/noimg3.gif';\" src=\"https://bookthumb-phinf.pstatic.net/cover/155/165/15516543.jpg?type=m1&amp;udate=Thu Jun 04 11:33:44 KST 2020\"/><span class=\"mask\"><span class=\"bg1\"></span><span class=\"bg2\"></span></span>\n",
       "</a>\n",
       "</div>"
      ]
     },
     "execution_count": 14,
     "metadata": {},
     "output_type": "execute_result"
    }
   ],
   "source": [
    "find_one = soup.find(class_='thumb_type thumb_type2')\n",
    "find_one"
   ]
  },
  {
   "cell_type": "code",
   "execution_count": 16,
   "metadata": {},
   "outputs": [
    {
     "data": {
      "text/plain": [
       "<li style=\"position:relative;\">\n",
       "<div class=\"thumb type_search\">\n",
       "<div class=\"thumb_type thumb_type2\">\n",
       "<a class=\"N=a:bls.thumb,r:1,i:98000001_000000000000000000ECC37F\" href=\"http://book.naver.com/bookdb/book_detail.nhn?bid=15516543\" target=\"_blank\">\n",
       "<img alt=\"KNIME을 활용한 Big Data분석\" onerror=\"this.src='https://ssl.pstatic.net/static/book/image/noimg3.gif';\" src=\"https://bookthumb-phinf.pstatic.net/cover/155/165/15516543.jpg?type=m1&amp;udate=Thu Jun 04 11:33:44 KST 2020\"/><span class=\"mask\"><span class=\"bg1\"></span><span class=\"bg2\"></span></span>\n",
       "</a>\n",
       "</div>\n",
       "</div>\n",
       "<dl style=\"width:654px\">\n",
       "<dt>\n",
       "<a class=\"N=a:bls.title,r:1,i:98000001_000000000000000000ECC37F\" href=\"http://book.naver.com/bookdb/book_detail.nhn?bid=15516543\" target=\"_blank\">KNIME을 활용한 <strong>Big</strong> <strong>Data</strong>분석</a><span> (Click 하나로 끝내는 데이터 분석 KNIME)</span> </dt>\n",
       "<dd class=\"txt_block\">\n",
       "<a class=\"N=a:bls.author,r:1,i:4570282\" href=\"http://book.naver.com/search/search.nhn?query=%EC%A1%B0%EC%B9%98%EC%84%A0&amp;frameFilterType=1&amp;frameFilterValue=4570282\">조치선</a>, <a class=\"N=a:bls.author,r:1,i:9162\" href=\"http://book.naver.com/search/search.nhn?query=%EC%A0%95%EC%98%81%EC%A7%84&amp;frameFilterType=1&amp;frameFilterValue=9162\">정영진</a> 외 5명 저 <span class=\"bar\">|</span> <a class=\"N=a:bls.publisher,r:1,i:\" href=\"http://book.naver.com/search/search.nhn?filterType=7&amp;query=%EC%97%91%EC%85%88\">엑셈</a> <span class=\"bar\">|</span> 2019.09.25</dd>\n",
       "<dd class=\"txt_desc\">\n",
       "<div class=\"review_point\">\n",
       "<span style=\"width:100.0%;\">별점</span>\n",
       "</div>\n",
       "\t\t\t\t10.0<span class=\"blind\">점</span>\n",
       "<span class=\"bar\"> | </span>\n",
       "<a class=\"N=a:bls.review,r:1,i:\" href=\"/bookdb/review.nhn?bid=15516543\">네티즌리뷰</a>\n",
       "\t\t\t\t\t3건\n",
       "\t\t\t\t<span class=\"bar\">|</span>\n",
       "<a class=\"N=a:bls.bookbuy,r:1,i:98000001_000000000000000000ECC37F\" href=\"javascript:showBuyLayerByBid('15516543')\" id=\"buy_btn_15516543\" onclick=\"return showAdultLayer('15516543', 'false', 'false', 'false');\"><img alt=\"도서구매\" class=\"btn v2\" height=\"20\" id=\"btn_buy_img_15516543\" src=\"https://ssl.pstatic.net/static/book/image/btn_book_buy.gif\" title=\"구매 가능한 도서입니다.\" width=\"48\"/></a>\n",
       "\t\t\t\t\t <strike>25000원</strike> → <em class=\"price\">22500원(-10%)</em>\n",
       "</dd>\n",
       "<dd id=\"searchDescrition_15516543\" line=\"3\" type=\"책소개\">\n",
       "<span class=\"txt_g1\">소개 </span>\n",
       "\t\t\t\t쉽고 빠르게 활용할 수 있는 KNIME ANALYTICS PLATFORM 기반 데이터 분석KNIME은 독일의 KONSTANZ 대학에서 개발된 워크플로우 기반의 통합 데이터 분석 플랫폼입니다. ‘KNIME을 활용한 빅데이터 분석’은 데이터 분석을 처음 접하는 학생들과 현업 담당자들을 위하여 집필하였고 데이터 선택...</dd>\n",
       "<!-- 연관도서 노출 -->\n",
       "</dl>\n",
       "</li>"
      ]
     },
     "execution_count": 16,
     "metadata": {},
     "output_type": "execute_result"
    }
   ],
   "source": [
    "book_all_li_all = book_all.select('li')      #책 각각 전체(list)\n",
    "book_all_li_one = book_all.select_one('li')  #책 1권\n",
    "\n",
    "# book_all_li_all\n",
    "book_all_li_one"
   ]
  },
  {
   "cell_type": "code",
   "execution_count": 20,
   "metadata": {},
   "outputs": [
    {
     "name": "stdout",
     "output_type": "stream",
     "text": [
      "15516543\n"
     ]
    }
   ],
   "source": [
    "#책 bid 1개 가져오기\n",
    "bid_one = book_all_li_one.a['href'].split('=')[1]\n",
    "print(bid_one)"
   ]
  },
  {
   "cell_type": "code",
   "execution_count": 24,
   "metadata": {},
   "outputs": [
    {
     "name": "stdout",
     "output_type": "stream",
     "text": [
      "['15516543', '13587569', '13783099', '16338249', '16327795', '16346530', '14594752', '13784550', '13399152', '16276774', '10390764', '15748262', '13409559', '15746028', '15744672', '16113809', '15811120', '10220466', '15136965', '15760214']\n"
     ]
    }
   ],
   "source": [
    "#책 bid 다가져오기\n",
    "bid_list = []\n",
    "for i in book_all_li_all:\n",
    "    bid = i.a['href'].split('=')[1]\n",
    "    bid_list.append(bid)\n",
    "print(bid_list)"
   ]
  },
  {
   "cell_type": "code",
   "execution_count": 25,
   "metadata": {},
   "outputs": [
    {
     "data": {
      "text/plain": [
       "'KNIME을 활용한 Big Data분석'"
      ]
     },
     "execution_count": 25,
     "metadata": {},
     "output_type": "execute_result"
    }
   ],
   "source": [
    "#책 제목 하나 가져오기\n",
    "title = book_all_li_one.a.img['alt']\n",
    "title"
   ]
  },
  {
   "cell_type": "code",
   "execution_count": 30,
   "metadata": {},
   "outputs": [
    {
     "name": "stdout",
     "output_type": "stream",
     "text": [
      "['KNIME을 활용한 Big Data분석', '빅데이터', '빅데이터 리더십', 'BIG DATA를 활용한 K-뷰티경영학', 'Knowledge Discovery in Big Data from Astronomy and Earth Observation: Astrogeoinformatics', 'Ocean Energy Modeling and Simulation with Big Data: Computational Intelligence for System Optimizati', '헬스케어.의료분야 인공지능(AI)과 빅데이터(Big Data)의 핵심기술 개발동향과 국내외 시장 분석', '빅데이터 빅마인드', 'Everybody Lies: Big Data, New Data, and What the Internet Can Tell Us about Who We Really Are', 'Systems Simulation and Modeling for Cloud Computing and Big Data Applications', 'Big Data', 'Big Data', '지식의 방주039 대한민국 여행트렌드 2018 Ⅹ. 빅데이터(Big Data)', 'Big Data', 'Big Data', 'Sharing Economy and Big Data Analytics', 'Big Data Mining for Climate Change', 'MY BIG DATA', 'Big Data', 'Spatial Analysis Using Big Data: Methods and Urban Applications']\n"
     ]
    }
   ],
   "source": [
    "#책 제목 전체 list에 담기\n",
    "title_list = []\n",
    "for i in book_all_li_all:\n",
    "    title = i.a.img['alt']\n",
    "    title_list.append(title)\n",
    "print(title_list)"
   ]
  },
  {
   "cell_type": "code",
   "execution_count": 95,
   "metadata": {},
   "outputs": [
    {
     "data": {
      "text/plain": [
       "'\\nYoshiki Yamagata 저 |\\xa0Elsevier\\xa0|\\xa02019.11.03'"
      ]
     },
     "execution_count": 95,
     "metadata": {},
     "output_type": "execute_result"
    }
   ],
   "source": [
    "# 저자 / 출판사 / 출판일 / 가격(정가-할인가)\n",
    "info = book_all_li_one.select('dd.txt_block')[0].text\n",
    "\n",
    "info"
   ]
  },
  {
   "cell_type": "code",
   "execution_count": 86,
   "metadata": {},
   "outputs": [
    {
     "data": {
      "text/plain": [
       "['조치선, 정영진 외 5명 저 ',\n",
       " '안지선 글 ',\n",
       " '김진호(대학교수), 최용주(대학부총장) 저 ',\n",
       " '이범식 김은주 전소현 이상범 저 ',\n",
       " 'Petr Skoda 저 ',\n",
       " 'Vikas Khare 저 ',\n",
       " '편집부 저 ',\n",
       " '박형준 저 ',\n",
       " 'Stephens-davidowitz, Seth 저 ',\n",
       " 'Dinesh Peter 저 ',\n",
       " '버나드 마 저 ',\n",
       " 'Pedersen, John S. (EDT), Wilkinson, Adrian (EDT) 저 ',\n",
       " '조명화(여행작가) 저 ',\n",
       " 'Sarangi, Saswat, Sharma, Pankaj 저 ',\n",
       " 'Sarangi, Saswat, Sharma, Pankaj 저 ',\n",
       " 'Soraya Sedkaoui 저 ',\n",
       " 'Zhihua Zhang 저 ',\n",
       " '이랑(가수), 황국영 저 ',\n",
       " 'Zgurovsky, Michael Z., Zaychenko, Yuriy P. 저 ',\n",
       " 'Yoshiki Yamagata 저 ']"
      ]
     },
     "execution_count": 86,
     "metadata": {},
     "output_type": "execute_result"
    }
   ],
   "source": [
    "#저자\n",
    "# author = info.split('|')[0].replace('\\n',\"\")\n",
    "# author\n",
    "\n",
    "author_list = []\n",
    "for book_all_li_one in book_all_li_all:\n",
    "    info = book_all_li_one.select('dd.txt_block')[0].text\n",
    "    author = info.split('|')[0].replace('\\n',\"\")\n",
    "    author_list.append(author)\n",
    "author_list"
   ]
  },
  {
   "cell_type": "code",
   "execution_count": 96,
   "metadata": {},
   "outputs": [
    {
     "data": {
      "text/plain": [
       "['엑셈',\n",
       " '봄볕',\n",
       " '북카라반',\n",
       " '구민사',\n",
       " 'Elsevier',\n",
       " 'Elsevier',\n",
       " 'IRSGlobal',\n",
       " '리드리드출판',\n",
       " 'DeyStreetBooks',\n",
       " 'Elsevier',\n",
       " '교학사',\n",
       " 'EdwardElgarPub',\n",
       " '테마여행신문TTNThemeTravelNewsKorea',\n",
       " 'RoutledgeIndia',\n",
       " 'RoutledgeIndia',\n",
       " 'Wiley-ISTE',\n",
       " 'Elsevier',\n",
       " '소시민워크',\n",
       " 'Springer-NatureNewYorkInc',\n",
       " 'Elsevier']"
      ]
     },
     "execution_count": 96,
     "metadata": {},
     "output_type": "execute_result"
    }
   ],
   "source": [
    "#출판사\n",
    "# publish = info.split('|')[-2].replace('\\xa0',\"\")\n",
    "# publish\n",
    "\n",
    "publish_list = []\n",
    "for book_all_li_one in book_all_li_all:\n",
    "    info = book_all_li_one.select('dd.txt_block')[0].text\n",
    "    publish = info.split('|')[-2].replace('\\xa0',\"\").replace('\\r',\"\").replace('\\n',\"\").replace('\\t',\"\")\n",
    "    publish_list.append(publish)\n",
    "publish_list"
   ]
  },
  {
   "cell_type": "code",
   "execution_count": 97,
   "metadata": {},
   "outputs": [
    {
     "data": {
      "text/plain": [
       "['2019.09.25',\n",
       " '2018.05.16',\n",
       " '2018.07.25',\n",
       " '2020.04.20',\n",
       " '2020.04.22',\n",
       " '2020.04.21',\n",
       " '2019.02.26',\n",
       " '2018.07.27',\n",
       " '2018.02.27',\n",
       " '2020.03.09',\n",
       " '2016.03.20',\n",
       " '2019.11.29',\n",
       " '2018.03.03',\n",
       " '2019.10.05',\n",
       " '2019.10.03',\n",
       " '2020.01.09',\n",
       " '2019.12.03',\n",
       " '2016.02.01',\n",
       " '2019.07.05',\n",
       " '2019.11.03']"
      ]
     },
     "execution_count": 97,
     "metadata": {},
     "output_type": "execute_result"
    }
   ],
   "source": [
    "#출판일\n",
    "# p_date = info.split('|')[-1].replace('\\xa0',\"\")\n",
    "# p_date\n",
    "\n",
    "p_date_list = []\n",
    "for book_all_li_one in book_all_li_all:\n",
    "    info = book_all_li_one.select('dd.txt_block')[0].text\n",
    "    p_date = info.split('|')[-1].replace('\\xa0',\"\")\n",
    "    p_date_list.append(p_date)\n",
    "p_date_list"
   ]
  },
  {
   "cell_type": "code",
   "execution_count": 131,
   "metadata": {},
   "outputs": [
    {
     "data": {
      "text/plain": [
       "[('25000원', '25000원'),\n",
       " ('13000원', '13000원'),\n",
       " ('16000원', '16000원'),\n",
       " ('21000원', '21000원'),\n",
       " (0, 0),\n",
       " (0, 0),\n",
       " ('390000원', '390000원'),\n",
       " ('15800원', '15800원'),\n",
       " ('22220원', '22220원'),\n",
       " (0, 0),\n",
       " ('14000원', '14000원'),\n",
       " ('189540원', '189540원'),\n",
       " (0, 0),\n",
       " ('69650원', '69650원'),\n",
       " ('196560원', '196560원'),\n",
       " (0, 0),\n",
       " (0, 0),\n",
       " (0, 0),\n",
       " ('214180원', '214180원'),\n",
       " (0, 0)]"
      ]
     },
     "execution_count": 131,
     "metadata": {},
     "output_type": "execute_result"
    }
   ],
   "source": [
    "# 가격\n",
    "# info = book_all_li_one.select_one('dd.txt_desc')\n",
    "# price_old = info.select_one('strike').text\n",
    "# price_new = info.select_one('em.price').text\n",
    "# price_new\n",
    "# # price = info.split('|')[-1].replace('\\xa0',\"\").replace('\\n',\"\").replace('\\t',\"\").replace('\\r',\"\")\n",
    "\n",
    "price_list = []\n",
    "for book_all_li_one in book_all_li_all:\n",
    "    info = book_all_li_one.select_one('dd.txt_desc')\n",
    "    price_old = info.select_one('strike')\n",
    "    price_new = info.select_one('em.price')\n",
    "    if price_old == None:\n",
    "        price_old = 0\n",
    "    else:\n",
    "       price_old = info.select_one('strike').text\n",
    "    if price_new == None:\n",
    "        price_new = 0\n",
    "    else:\n",
    "       price_new = info.select_one('strike').text   \n",
    "    price_list.append((price_old,price_new))\n",
    "#     price = info.split('|')[-1].replace('\\xa0',\"\").replace('\\n',\"\").replace('\\t',\"\").replace('\\r',\"\")\n",
    "#     price_list.append(price)\n",
    "price_list"
   ]
  },
  {
   "cell_type": "code",
   "execution_count": 140,
   "metadata": {},
   "outputs": [
    {
     "data": {
      "text/plain": [
       "20"
      ]
     },
     "execution_count": 140,
     "metadata": {},
     "output_type": "execute_result"
    }
   ],
   "source": [
    "len(bid_list)"
   ]
  },
  {
   "cell_type": "code",
   "execution_count": null,
   "metadata": {},
   "outputs": [],
   "source": []
  },
  {
   "cell_type": "code",
   "execution_count": 153,
   "metadata": {},
   "outputs": [
    {
     "name": "stdout",
     "output_type": "stream",
     "text": [
      "{'bid': '15516543', 'title': 'KNIME을 활용한 Big Data분석', 'author': '조치선, 정영진 외 5명 저 ', 'publish': '엑셈', 'p_date': '2019.09.25', 'price': ('25000원', '25000원')}\n",
      "{'bid': '13587569', 'title': '빅데이터', 'author': '안지선 글 ', 'publish': '봄볕', 'p_date': '2018.05.16', 'price': ('13000원', '13000원')}\n",
      "{'bid': '13783099', 'title': '빅데이터 리더십', 'author': '김진호(대학교수), 최용주(대학부총장) 저 ', 'publish': '북카라반', 'p_date': '2018.07.25', 'price': ('16000원', '16000원')}\n",
      "{'bid': '16338249', 'title': 'BIG DATA를 활용한 K-뷰티경영학', 'author': '이범식 김은주 전소현 이상범 저 ', 'publish': '구민사', 'p_date': '2020.04.20', 'price': ('21000원', '21000원')}\n",
      "{'bid': '16327795', 'title': 'Knowledge Discovery in Big Data from Astronomy and Earth Observation: Astrogeoinformatics', 'author': 'Petr Skoda 저 ', 'publish': 'Elsevier', 'p_date': '2020.04.22', 'price': (0, 0)}\n",
      "{'bid': '16346530', 'title': 'Ocean Energy Modeling and Simulation with Big Data: Computational Intelligence for System Optimizati', 'author': 'Vikas Khare 저 ', 'publish': 'Elsevier', 'p_date': '2020.04.21', 'price': (0, 0)}\n",
      "{'bid': '14594752', 'title': '헬스케어.의료분야 인공지능(AI)과 빅데이터(Big Data)의 핵심기술 개발동향과 국내외 시장 분석', 'author': '편집부 저 ', 'publish': 'IRSGlobal', 'p_date': '2019.02.26', 'price': ('390000원', '390000원')}\n",
      "{'bid': '13784550', 'title': '빅데이터 빅마인드', 'author': '박형준 저 ', 'publish': '리드리드출판', 'p_date': '2018.07.27', 'price': ('15800원', '15800원')}\n",
      "{'bid': '13399152', 'title': 'Everybody Lies: Big Data, New Data, and What the Internet Can Tell Us about Who We Really Are', 'author': 'Stephens-davidowitz, Seth 저 ', 'publish': 'DeyStreetBooks', 'p_date': '2018.02.27', 'price': ('22220원', '22220원')}\n",
      "{'bid': '16276774', 'title': 'Systems Simulation and Modeling for Cloud Computing and Big Data Applications', 'author': 'Dinesh Peter 저 ', 'publish': 'Elsevier', 'p_date': '2020.03.09', 'price': (0, 0)}\n",
      "{'bid': '10390764', 'title': 'Big Data', 'author': '버나드 마 저 ', 'publish': '교학사', 'p_date': '2016.03.20', 'price': ('14000원', '14000원')}\n",
      "{'bid': '15748262', 'title': 'Big Data', 'author': 'Pedersen, John S. (EDT), Wilkinson, Adrian (EDT) 저 ', 'publish': 'EdwardElgarPub', 'p_date': '2019.11.29', 'price': ('189540원', '189540원')}\n",
      "{'bid': '13409559', 'title': '지식의 방주039 대한민국 여행트렌드 2018 Ⅹ. 빅데이터(Big Data)', 'author': '조명화(여행작가) 저 ', 'publish': '테마여행신문TTNThemeTravelNewsKorea', 'p_date': '2018.03.03', 'price': (0, 0)}\n",
      "{'bid': '15746028', 'title': 'Big Data', 'author': 'Sarangi, Saswat, Sharma, Pankaj 저 ', 'publish': 'RoutledgeIndia', 'p_date': '2019.10.05', 'price': ('69650원', '69650원')}\n",
      "{'bid': '15744672', 'title': 'Big Data', 'author': 'Sarangi, Saswat, Sharma, Pankaj 저 ', 'publish': 'RoutledgeIndia', 'p_date': '2019.10.03', 'price': ('196560원', '196560원')}\n",
      "{'bid': '16113809', 'title': 'Sharing Economy and Big Data Analytics', 'author': 'Soraya Sedkaoui 저 ', 'publish': 'Wiley-ISTE', 'p_date': '2020.01.09', 'price': (0, 0)}\n",
      "{'bid': '15811120', 'title': 'Big Data Mining for Climate Change', 'author': 'Zhihua Zhang 저 ', 'publish': 'Elsevier', 'p_date': '2019.12.03', 'price': (0, 0)}\n",
      "{'bid': '10220466', 'title': 'MY BIG DATA', 'author': '이랑(가수), 황국영 저 ', 'publish': '소시민워크', 'p_date': '2016.02.01', 'price': (0, 0)}\n",
      "{'bid': '15136965', 'title': 'Big Data', 'author': 'Zgurovsky, Michael Z., Zaychenko, Yuriy P. 저 ', 'publish': 'Springer-NatureNewYorkInc', 'p_date': '2019.07.05', 'price': ('214180원', '214180원')}\n",
      "{'bid': '15760214', 'title': 'Spatial Analysis Using Big Data: Methods and Urban Applications', 'author': 'Yoshiki Yamagata 저 ', 'publish': 'Elsevier', 'p_date': '2019.11.03', 'price': (0, 0)}\n"
     ]
    }
   ],
   "source": [
    "book_info_list = list()\n",
    "\n",
    "for i in range(len(bid_list)):\n",
    "    book_info_dict = dict()\n",
    "    \n",
    "    book_info_dict['bid'] = bid_list[i]\n",
    "    book_info_dict['title'] = title_list[i] \n",
    "    book_info_dict['author'] = author_list[i] \n",
    "    book_info_dict['publish'] = publish_list[i]  \n",
    "    book_info_dict['p_date'] = p_date_list[i]   \n",
    "    book_info_dict['price'] = price_list[i]   \n",
    "    book_info_list.append(book_info_dict)\n",
    "    print(book_info_dict)"
   ]
  },
  {
   "cell_type": "code",
   "execution_count": 154,
   "metadata": {},
   "outputs": [
    {
     "data": {
      "text/plain": [
       "[{'bid': '15516543',\n",
       "  'title': 'KNIME을 활용한 Big Data분석',\n",
       "  'author': '조치선, 정영진 외 5명 저 ',\n",
       "  'publish': '엑셈',\n",
       "  'p_date': '2019.09.25',\n",
       "  'price': ('25000원', '25000원')},\n",
       " {'bid': '13587569',\n",
       "  'title': '빅데이터',\n",
       "  'author': '안지선 글 ',\n",
       "  'publish': '봄볕',\n",
       "  'p_date': '2018.05.16',\n",
       "  'price': ('13000원', '13000원')},\n",
       " {'bid': '13783099',\n",
       "  'title': '빅데이터 리더십',\n",
       "  'author': '김진호(대학교수), 최용주(대학부총장) 저 ',\n",
       "  'publish': '북카라반',\n",
       "  'p_date': '2018.07.25',\n",
       "  'price': ('16000원', '16000원')},\n",
       " {'bid': '16338249',\n",
       "  'title': 'BIG DATA를 활용한 K-뷰티경영학',\n",
       "  'author': '이범식 김은주 전소현 이상범 저 ',\n",
       "  'publish': '구민사',\n",
       "  'p_date': '2020.04.20',\n",
       "  'price': ('21000원', '21000원')},\n",
       " {'bid': '16327795',\n",
       "  'title': 'Knowledge Discovery in Big Data from Astronomy and Earth Observation: Astrogeoinformatics',\n",
       "  'author': 'Petr Skoda 저 ',\n",
       "  'publish': 'Elsevier',\n",
       "  'p_date': '2020.04.22',\n",
       "  'price': (0, 0)},\n",
       " {'bid': '16346530',\n",
       "  'title': 'Ocean Energy Modeling and Simulation with Big Data: Computational Intelligence for System Optimizati',\n",
       "  'author': 'Vikas Khare 저 ',\n",
       "  'publish': 'Elsevier',\n",
       "  'p_date': '2020.04.21',\n",
       "  'price': (0, 0)},\n",
       " {'bid': '14594752',\n",
       "  'title': '헬스케어.의료분야 인공지능(AI)과 빅데이터(Big Data)의 핵심기술 개발동향과 국내외 시장 분석',\n",
       "  'author': '편집부 저 ',\n",
       "  'publish': 'IRSGlobal',\n",
       "  'p_date': '2019.02.26',\n",
       "  'price': ('390000원', '390000원')},\n",
       " {'bid': '13784550',\n",
       "  'title': '빅데이터 빅마인드',\n",
       "  'author': '박형준 저 ',\n",
       "  'publish': '리드리드출판',\n",
       "  'p_date': '2018.07.27',\n",
       "  'price': ('15800원', '15800원')},\n",
       " {'bid': '13399152',\n",
       "  'title': 'Everybody Lies: Big Data, New Data, and What the Internet Can Tell Us about Who We Really Are',\n",
       "  'author': 'Stephens-davidowitz, Seth 저 ',\n",
       "  'publish': 'DeyStreetBooks',\n",
       "  'p_date': '2018.02.27',\n",
       "  'price': ('22220원', '22220원')},\n",
       " {'bid': '16276774',\n",
       "  'title': 'Systems Simulation and Modeling for Cloud Computing and Big Data Applications',\n",
       "  'author': 'Dinesh Peter 저 ',\n",
       "  'publish': 'Elsevier',\n",
       "  'p_date': '2020.03.09',\n",
       "  'price': (0, 0)},\n",
       " {'bid': '10390764',\n",
       "  'title': 'Big Data',\n",
       "  'author': '버나드 마 저 ',\n",
       "  'publish': '교학사',\n",
       "  'p_date': '2016.03.20',\n",
       "  'price': ('14000원', '14000원')},\n",
       " {'bid': '15748262',\n",
       "  'title': 'Big Data',\n",
       "  'author': 'Pedersen, John S. (EDT), Wilkinson, Adrian (EDT) 저 ',\n",
       "  'publish': 'EdwardElgarPub',\n",
       "  'p_date': '2019.11.29',\n",
       "  'price': ('189540원', '189540원')},\n",
       " {'bid': '13409559',\n",
       "  'title': '지식의 방주039 대한민국 여행트렌드 2018 Ⅹ. 빅데이터(Big Data)',\n",
       "  'author': '조명화(여행작가) 저 ',\n",
       "  'publish': '테마여행신문TTNThemeTravelNewsKorea',\n",
       "  'p_date': '2018.03.03',\n",
       "  'price': (0, 0)},\n",
       " {'bid': '15746028',\n",
       "  'title': 'Big Data',\n",
       "  'author': 'Sarangi, Saswat, Sharma, Pankaj 저 ',\n",
       "  'publish': 'RoutledgeIndia',\n",
       "  'p_date': '2019.10.05',\n",
       "  'price': ('69650원', '69650원')},\n",
       " {'bid': '15744672',\n",
       "  'title': 'Big Data',\n",
       "  'author': 'Sarangi, Saswat, Sharma, Pankaj 저 ',\n",
       "  'publish': 'RoutledgeIndia',\n",
       "  'p_date': '2019.10.03',\n",
       "  'price': ('196560원', '196560원')},\n",
       " {'bid': '16113809',\n",
       "  'title': 'Sharing Economy and Big Data Analytics',\n",
       "  'author': 'Soraya Sedkaoui 저 ',\n",
       "  'publish': 'Wiley-ISTE',\n",
       "  'p_date': '2020.01.09',\n",
       "  'price': (0, 0)},\n",
       " {'bid': '15811120',\n",
       "  'title': 'Big Data Mining for Climate Change',\n",
       "  'author': 'Zhihua Zhang 저 ',\n",
       "  'publish': 'Elsevier',\n",
       "  'p_date': '2019.12.03',\n",
       "  'price': (0, 0)},\n",
       " {'bid': '10220466',\n",
       "  'title': 'MY BIG DATA',\n",
       "  'author': '이랑(가수), 황국영 저 ',\n",
       "  'publish': '소시민워크',\n",
       "  'p_date': '2016.02.01',\n",
       "  'price': (0, 0)},\n",
       " {'bid': '15136965',\n",
       "  'title': 'Big Data',\n",
       "  'author': 'Zgurovsky, Michael Z., Zaychenko, Yuriy P. 저 ',\n",
       "  'publish': 'Springer-NatureNewYorkInc',\n",
       "  'p_date': '2019.07.05',\n",
       "  'price': ('214180원', '214180원')},\n",
       " {'bid': '15760214',\n",
       "  'title': 'Spatial Analysis Using Big Data: Methods and Urban Applications',\n",
       "  'author': 'Yoshiki Yamagata 저 ',\n",
       "  'publish': 'Elsevier',\n",
       "  'p_date': '2019.11.03',\n",
       "  'price': (0, 0)}]"
      ]
     },
     "execution_count": 154,
     "metadata": {},
     "output_type": "execute_result"
    }
   ],
   "source": [
    "book_info_list"
   ]
  }
 ],
 "metadata": {
  "kernelspec": {
   "display_name": "Python 3",
   "language": "python",
   "name": "python3"
  },
  "language_info": {
   "codemirror_mode": {
    "name": "ipython",
    "version": 3
   },
   "file_extension": ".py",
   "mimetype": "text/x-python",
   "name": "python",
   "nbconvert_exporter": "python",
   "pygments_lexer": "ipython3",
   "version": "3.7.7"
  }
 },
 "nbformat": 4,
 "nbformat_minor": 4
}
