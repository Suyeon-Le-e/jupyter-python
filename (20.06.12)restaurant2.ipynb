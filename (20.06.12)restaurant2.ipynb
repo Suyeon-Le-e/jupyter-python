{
 "cells": [
  {
   "cell_type": "code",
   "execution_count": 6,
   "metadata": {
    "collapsed": true
   },
   "outputs": [
    {
     "name": "stdout",
     "output_type": "stream",
     "text": [
      "Collecting folium\n",
      "  Downloading folium-0.11.0-py2.py3-none-any.whl (93 kB)\n",
      "Requirement already satisfied: requests in c:\\programdata\\anaconda3\\envs\\collect\\lib\\site-packages (from folium) (2.23.0)\n",
      "Requirement already satisfied: numpy in c:\\programdata\\anaconda3\\envs\\collect\\lib\\site-packages (from folium) (1.18.5)\n",
      "Requirement already satisfied: jinja2>=2.9 in c:\\programdata\\anaconda3\\envs\\collect\\lib\\site-packages (from folium) (2.11.2)\n",
      "Collecting branca>=0.3.0\n",
      "  Downloading branca-0.4.1-py3-none-any.whl (24 kB)\n",
      "Requirement already satisfied: chardet<4,>=3.0.2 in c:\\programdata\\anaconda3\\envs\\collect\\lib\\site-packages (from requests->folium) (3.0.4)\n",
      "Requirement already satisfied: urllib3!=1.25.0,!=1.25.1,<1.26,>=1.21.1 in c:\\programdata\\anaconda3\\envs\\collect\\lib\\site-packages (from requests->folium) (1.25.9)\n",
      "Requirement already satisfied: idna<3,>=2.5 in c:\\programdata\\anaconda3\\envs\\collect\\lib\\site-packages (from requests->folium) (2.9)\n",
      "Requirement already satisfied: certifi>=2017.4.17 in c:\\programdata\\anaconda3\\envs\\collect\\lib\\site-packages (from requests->folium) (2020.4.5.1)\n",
      "Requirement already satisfied: MarkupSafe>=0.23 in c:\\programdata\\anaconda3\\envs\\collect\\lib\\site-packages (from jinja2>=2.9->folium) (1.1.1)\n",
      "Installing collected packages: branca, folium\n",
      "Successfully installed branca-0.4.1 folium-0.11.0\n",
      "Note: you may need to restart the kernel to use updated packages.\n"
     ]
    }
   ],
   "source": [
    "pip install folium"
   ]
  },
  {
   "cell_type": "code",
   "execution_count": 7,
   "metadata": {
    "scrolled": true
   },
   "outputs": [],
   "source": [
    "import requests\n",
    "from bs4 import BeautifulSoup\n",
    "import re\n",
    "import folium"
   ]
  },
  {
   "cell_type": "code",
   "execution_count": 8,
   "metadata": {},
   "outputs": [],
   "source": [
    "url = 'https://www.wikitree.co.kr/main/news_view.php?id=217101'\n",
    "response = requests.get(url)\n",
    "#response.text"
   ]
  },
  {
   "cell_type": "code",
   "execution_count": 9,
   "metadata": {},
   "outputs": [],
   "source": [
    "resp = response.text.replace('&nbsp;',' ')\n",
    "soup = BeautifulSoup(resp)\n",
    "#soup"
   ]
  },
  {
   "cell_type": "code",
   "execution_count": 10,
   "metadata": {},
   "outputs": [],
   "source": [
    "raw_data = soup.select_one('div#wikicon')\n",
    "#raw_data"
   ]
  },
  {
   "cell_type": "code",
   "execution_count": 11,
   "metadata": {},
   "outputs": [
    {
     "data": {
      "text/plain": [
       "<strong>1. 44회 다성일식</strong>"
      ]
     },
     "execution_count": 11,
     "metadata": {},
     "output_type": "execute_result"
    }
   ],
   "source": [
    "title_one = raw_data.select_one('div strong')\n",
    "title_one"
   ]
  },
  {
   "cell_type": "code",
   "execution_count": 12,
   "metadata": {},
   "outputs": [],
   "source": [
    "title_all = raw_data.select('div strong')\n",
    "first_title_list = []\n",
    "for title_one in title_all:\n",
    "    title_text = title_one.text\n",
    "    if title_text:\n",
    "        if title_text.strip() == '14.' or title_text.strip() == '20.':\n",
    "            continue\n",
    "        else:\n",
    "            first_title_list.append(title_text)\n",
    "        "
   ]
  },
  {
   "cell_type": "code",
   "execution_count": 13,
   "metadata": {},
   "outputs": [],
   "source": [
    "#first_title_list\n",
    "second_title_list = []\n",
    "for title_one in first_title_list:\n",
    "    second_title_list.append(title_one.split('회 ')[1].strip())"
   ]
  },
  {
   "cell_type": "code",
   "execution_count": 14,
   "metadata": {},
   "outputs": [],
   "source": [
    "title_list = second_title_list"
   ]
  },
  {
   "cell_type": "code",
   "execution_count": 15,
   "metadata": {},
   "outputs": [
    {
     "data": {
      "text/plain": [
       "19"
      ]
     },
     "execution_count": 15,
     "metadata": {},
     "output_type": "execute_result"
    }
   ],
   "source": [
    "# 전화번호 찾기 1 실패\n",
    "tel_p = re.compile('\\d{2,3}-\\d{3,4}-\\d{4}')\n",
    "tel_all = raw_data.select('div ~ p')\n",
    "tel_list = []\n",
    "for item in tel_all:\n",
    "    str_item = str(item)\n",
    "    info = tel_p.findall(str_item)\n",
    "    if info:\n",
    "        tel_list.append(info)\n",
    "        \n",
    "len(tel_list)"
   ]
  },
  {
   "cell_type": "code",
   "execution_count": 16,
   "metadata": {},
   "outputs": [
    {
     "data": {
      "text/plain": [
       "20"
      ]
     },
     "execution_count": 16,
     "metadata": {},
     "output_type": "execute_result"
    }
   ],
   "source": [
    "# 전화번호 찾기 2 성공\n",
    "tel_p = re.compile('\\d{2,3}-\\d{3,4}-\\d{4}')\n",
    "tel_all = raw_data.select('p')\n",
    "tel_list = []\n",
    "for item in tel_all:\n",
    "    str_item = str(item)\n",
    "    info = tel_p.findall(str_item)\n",
    "    if info:\n",
    "        tel_list.append(info)\n",
    "        \n",
    "len(tel_list)"
   ]
  },
  {
   "cell_type": "code",
   "execution_count": 17,
   "metadata": {},
   "outputs": [
    {
     "name": "stdout",
     "output_type": "stream",
     "text": [
      "20\n"
     ]
    }
   ],
   "source": [
    "# 전화번호 찾기 3 성공\n",
    "tel_p = re.compile('\\d{2,3}-\\d{3,4}-\\d{4}')\n",
    "tel_data = raw_data.find_all(string = tel_p)\n",
    "tel_list = []\n",
    "for tel_one in tel_data:\n",
    "    tel_list.append(tel_one.strip())\n",
    "    \n",
    "print(len(tel_list))"
   ]
  },
  {
   "cell_type": "code",
   "execution_count": 18,
   "metadata": {},
   "outputs": [
    {
     "name": "stdout",
     "output_type": "stream",
     "text": [
      "['서울시 서대문구 창천동 72-36', '서울시 용산구 용산동3가 1-21', '서울시 영등포구 여의도동 44-37 아일렉스타워15층(스카이점)', '서울시 광진구 화양동 9-22', '서울시 강북구 수유동 563-14', '서울시 성북구 동소문동 1가 62', '서울시 강남구 역삼동 821 이즈타워 B3', '서울시 마포구 아현동  282-1', '서울시 강남구 논현동 98-12', '서울시 강남구 청담동 80-21', '서울시 강남구 신사동 526-11', '서울시 서초구 반포4동 82-22', '서울시 동대문구 제기동 138-2', '서울시 종로구 누하동 25-1', '서울시 서초구 양재동 1-28', '서울시 종로구 부암동 208-37', '종로구 당주동 5 로얄빌딩 지하 1층', '서울 마포구 연남동 257-8 ', '서울 중구 필동 1가 3-20', '서울 중구 북창동 93-36']\n"
     ]
    }
   ],
   "source": [
    "# 주소 찾기 \n",
    "address_p = re.compile('^.*구\\s.*동')\n",
    "address_list = raw_data.find_all(string = address_p)\n",
    "print(address_list)"
   ]
  },
  {
   "cell_type": "code",
   "execution_count": 19,
   "metadata": {},
   "outputs": [],
   "source": [
    "restaurant_list = []\n",
    "for i in range(len(title_list)):\n",
    "    info = [title_list[i], tel_list[i], address_list[i]]\n",
    "    restaurant_list.append(info)\n",
    "    \n"
   ]
  },
  {
   "cell_type": "code",
   "execution_count": 20,
   "metadata": {},
   "outputs": [],
   "source": [
    "import pickle\n",
    "import sys\n",
    "sys.setrecursionlimit(10000)"
   ]
  },
  {
   "cell_type": "code",
   "execution_count": 21,
   "metadata": {},
   "outputs": [],
   "source": [
    "with open('restaurant_list.pkl', 'wb') as f:\n",
    "    pickle.dump(restaurant_list, f)"
   ]
  },
  {
   "cell_type": "code",
   "execution_count": 22,
   "metadata": {},
   "outputs": [],
   "source": [
    "with open(\"restaurant_list.pkl\",\"rb\") as fr:\n",
    "    data = pickle.load(fr)\n",
    "#print(data)\n"
   ]
  },
  {
   "cell_type": "code",
   "execution_count": 23,
   "metadata": {},
   "outputs": [],
   "source": [
    "# Kakao API : 구주소 -> 신주소, 위경도 \n",
    "def getLatLng(address):\n",
    "    #address = '서울특별시 구로구 디지털로 306'\n",
    "    app_key = 'KakaoAK ' + '0f4891619d301962183c7d4d00948072'\n",
    "    url = 'https://dapi.kakao.com/v2/local/search/address.json'\n",
    "    params = {\n",
    "        'query':address,\n",
    "        'page':'',\n",
    "        'AddressSize':''\n",
    "    }\n",
    "    headers = {'Authorization':app_key}\n",
    "    response = requests.get(url, headers=headers, params=params)\n",
    "    status_code = response.status_code\n",
    "    if status_code == 200:\n",
    "        address_info = response.json()\n",
    "        x = address_info['documents'][0]['x']\n",
    "        y = address_info['documents'][0]['y']\n",
    "        return (y, x)\n",
    "    else:\n",
    "        return (0, 0)"
   ]
  },
  {
   "cell_type": "code",
   "execution_count": 24,
   "metadata": {},
   "outputs": [
    {
     "name": "stdout",
     "output_type": "stream",
     "text": [
      "종로구 당주동 5 로얄빌딩 지하 1층\n",
      "종로구 당주동 5\n"
     ]
    }
   ],
   "source": [
    "# 종로구 당주동 5 로얄빌딩 지하 1층 위경도가 않옴\n",
    "print(data[16][2])\n",
    "data[16][2] = data[16][2].split('로얄빌딩')[0].strip()\n",
    "print(data[16][2])"
   ]
  },
  {
   "cell_type": "code",
   "execution_count": 25,
   "metadata": {
    "collapsed": true
   },
   "outputs": [
    {
     "data": {
      "text/plain": [
       "[('37.5568947886341', '126.932965561024'),\n",
       " ('37.5344088960778', '126.974989040272'),\n",
       " ('37.5189272446286', '126.930731521429'),\n",
       " ('37.5414828193382', '127.069272933219'),\n",
       " ('37.6456327086471', '127.007127542151'),\n",
       " ('37.5900669779109', '127.00839172712'),\n",
       " ('37.4986090348489', '127.027897674019'),\n",
       " ('37.5551587300272', '126.955664169252'),\n",
       " ('37.5204072521637', '127.036095252922'),\n",
       " ('37.5261747199815', '127.044857053316'),\n",
       " ('37.5210732573275', '127.019786406742'),\n",
       " ('37.4947067319368', '127.00090838481'),\n",
       " ('37.5862034507119', '127.034542600462'),\n",
       " ('37.5801412950445', '126.969021243655'),\n",
       " ('37.4844942544155', '127.039180053795'),\n",
       " ('37.5955770447834', '126.964055305288'),\n",
       " ('37.5719883882772', '126.974327965082'),\n",
       " ('37.5620838593197', '126.923556958229'),\n",
       " ('37.5617589423156', '126.992201358274'),\n",
       " ('37.562416037119', '126.978922667995')]"
      ]
     },
     "execution_count": 25,
     "metadata": {},
     "output_type": "execute_result"
    }
   ],
   "source": [
    "location = list() # 위, 경도 저장\n",
    "for item in data:\n",
    "    #print(item)\n",
    "    ret_location = getLatLng(item[2])\n",
    "    #print(ret_location)\n",
    "    #print(location)\n",
    "    location.append(ret_location)\n",
    "    \n",
    "location"
   ]
  },
  {
   "cell_type": "code",
   "execution_count": 26,
   "metadata": {},
   "outputs": [
    {
     "data": {
      "text/plain": [
       "20"
      ]
     },
     "execution_count": 26,
     "metadata": {},
     "output_type": "execute_result"
    }
   ],
   "source": [
    "len(location)"
   ]
  },
  {
   "cell_type": "code",
   "execution_count": 27,
   "metadata": {},
   "outputs": [],
   "source": [
    "for i in range(len(data)):\n",
    "    data[i].append(location[i])\n",
    "    "
   ]
  },
  {
   "cell_type": "code",
   "execution_count": 28,
   "metadata": {
    "collapsed": true
   },
   "outputs": [
    {
     "data": {
      "text/plain": [
       "[['다성일식',\n",
       "  '02-338-8951',\n",
       "  '서울시 서대문구 창천동 72-36',\n",
       "  ('37.5568947886341', '126.932965561024')],\n",
       " ['봉산집',\n",
       "  '02-793-5022',\n",
       "  '서울시 용산구 용산동3가 1-21',\n",
       "  ('37.5344088960778', '126.974989040272')],\n",
       " ['창고43',\n",
       "  '02-786-5959',\n",
       "  '서울시 영등포구 여의도동 44-37 아일렉스타워15층(스카이점)',\n",
       "  ('37.5189272446286', '126.930731521429')],\n",
       " ['돕감자탕',\n",
       "  '02-499-2838',\n",
       "  '서울시 광진구 화양동 9-22',\n",
       "  ('37.5414828193382', '127.069272933219')],\n",
       " ['대보명가',\n",
       "  '02-907-6998',\n",
       "  '서울시 강북구 수유동 563-14',\n",
       "  ('37.6456327086471', '127.007127542151')],\n",
       " ['해뜨는집',\n",
       "  '02-764-6354',\n",
       "  '서울시 성북구 동소문동 1가 62',\n",
       "  ('37.5900669779109', '127.00839172712')],\n",
       " ['아이 해브어 드림',\n",
       "  '02-3453-7696',\n",
       "  '서울시 강남구 역삼동 821 이즈타워 B3',\n",
       "  ('37.4986090348489', '127.027897674019')],\n",
       " ['아현동 간장게장',\n",
       "  '02-312-7530',\n",
       "  '서울시 마포구 아현동  282-1',\n",
       "  ('37.5551587300272', '126.955664169252')],\n",
       " ['왕소금구이',\n",
       "  '02-545-6844',\n",
       "  '서울시 강남구 논현동 98-12',\n",
       "  ('37.5204072521637', '127.036095252922')],\n",
       " ['라틀리에 모니크',\n",
       "  '02-549-9210',\n",
       "  '서울시 강남구 청담동 80-21',\n",
       "  ('37.5261747199815', '127.044857053316')],\n",
       " ['비스트로 딩고',\n",
       "  '02-518-7866',\n",
       "  '서울시 강남구 신사동 526-11',\n",
       "  ('37.5210732573275', '127.019786406742')],\n",
       " ['줄리에뜨',\n",
       "  '02-535-4002',\n",
       "  '서울시 서초구 반포4동 82-22',\n",
       "  ('37.4947067319368', '127.00090838481')],\n",
       " ['충주집',\n",
       "  '02-923-1068',\n",
       "  '서울시 동대문구 제기동 138-2',\n",
       "  ('37.5862034507119', '127.034542600462')],\n",
       " ['영화루',\n",
       "  '02-738-1218',\n",
       "  '서울시 종로구 누하동 25-1',\n",
       "  ('37.5801412950445', '126.969021243655')],\n",
       " ['일품헌',\n",
       "  '02-574-7117',\n",
       "  '서울시 서초구 양재동 1-28',\n",
       "  ('37.4844942544155', '127.039180053795')],\n",
       " ['립스테이크',\n",
       "  '02-379-2581',\n",
       "  '서울시 종로구 부암동 208-37',\n",
       "  ('37.5955770447834', '126.964055305288')],\n",
       " ['오가와', '02-735-1001', '종로구 당주동 5', ('37.5719883882772', '126.974327965082')],\n",
       " ['까사디노아',\n",
       "  '02-3142-1108',\n",
       "  '서울 마포구 연남동 257-8 ',\n",
       "  ('37.5620838593197', '126.923556958229')],\n",
       " ['충무로 주꾸미 불고기',\n",
       "  '02-2279-0803',\n",
       "  '서울 중구 필동 1가 3-20',\n",
       "  ('37.5617589423156', '126.992201358274')],\n",
       " ['애성회관',\n",
       "  '02-352-0303',\n",
       "  '서울 중구 북창동 93-36',\n",
       "  ('37.562416037119', '126.978922667995')]]"
      ]
     },
     "execution_count": 28,
     "metadata": {},
     "output_type": "execute_result"
    }
   ],
   "source": [
    "data"
   ]
  },
  {
   "cell_type": "code",
   "execution_count": 29,
   "metadata": {},
   "outputs": [
    {
     "data": {
      "text/plain": [
       "('37.5568947886341', '126.932965561024')"
      ]
     },
     "execution_count": 29,
     "metadata": {},
     "output_type": "execute_result"
    }
   ],
   "source": [
    "data[0][3]"
   ]
  },
  {
   "cell_type": "code",
   "execution_count": 30,
   "metadata": {},
   "outputs": [
    {
     "data": {
      "text/html": [
       "<div style=\"width:100%;\"><div style=\"position:relative;width:100%;height:0;padding-bottom:60%;\"><span style=\"color:#565656\">Make this Notebook Trusted to load map: File -> Trust Notebook</span><iframe src=\"about:blank\" style=\"position:absolute;width:100%;height:100%;left:0;top:0;border:none !important;\" data-html=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 onload=\"this.contentDocument.open();this.contentDocument.write(atob(this.getAttribute('data-html')));this.contentDocument.close();\" allowfullscreen webkitallowfullscreen mozallowfullscreen></iframe></div></div>"
      ],
      "text/plain": [
       "<folium.folium.Map at 0x174fab79d08>"
      ]
     },
     "execution_count": 30,
     "metadata": {},
     "output_type": "execute_result"
    }
   ],
   "source": [
    "# 지도 생성\n",
    "map = folium.Map(location=data[0][3], zoom_start=11)\n",
    "map"
   ]
  },
  {
   "cell_type": "code",
   "execution_count": 31,
   "metadata": {},
   "outputs": [
    {
     "data": {
      "text/plain": [
       "['다성일식',\n",
       " '02-338-8951',\n",
       " '서울시 서대문구 창천동 72-36',\n",
       " ('37.5568947886341', '126.932965561024')]"
      ]
     },
     "execution_count": 31,
     "metadata": {},
     "output_type": "execute_result"
    }
   ],
   "source": [
    "data[0]"
   ]
  },
  {
   "cell_type": "code",
   "execution_count": 32,
   "metadata": {
    "scrolled": true
   },
   "outputs": [
    {
     "data": {
      "text/html": [
       "<div style=\"width:100%;\"><div style=\"position:relative;width:100%;height:0;padding-bottom:60%;\"><span style=\"color:#565656\">Make this Notebook Trusted to load map: File -> Trust Notebook</span><iframe src=\"about:blank\" style=\"position:absolute;width:100%;height:100%;left:0;top:0;border:none !important;\" data-html=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 onload=\"this.contentDocument.open();this.contentDocument.write(atob(this.getAttribute('data-html')));this.contentDocument.close();\" allowfullscreen webkitallowfullscreen mozallowfullscreen></iframe></div></div>"
      ],
      "text/plain": [
       "<folium.folium.Map at 0x174fab79d08>"
      ]
     },
     "execution_count": 32,
     "metadata": {},
     "output_type": "execute_result"
    }
   ],
   "source": [
    "# 마커 생성\n",
    "folium.Marker(location=data[0][3], \n",
    "              popup=data[0][1],\n",
    "             icon=folium.Icon(color='pink', icon='glyphicon glyphicon-road')).add_to(map)\n",
    "map"
   ]
  },
  {
   "cell_type": "code",
   "execution_count": 33,
   "metadata": {},
   "outputs": [
    {
     "data": {
      "text/html": [
       "<div style=\"width:100%;\"><div style=\"position:relative;width:100%;height:0;padding-bottom:60%;\"><span style=\"color:#565656\">Make this Notebook Trusted to load map: File -> Trust Notebook</span><iframe src=\"about:blank\" style=\"position:absolute;width:100%;height:100%;left:0;top:0;border:none !important;\" data-html=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 onload=\"this.contentDocument.open();this.contentDocument.write(atob(this.getAttribute('data-html')));this.contentDocument.close();\" allowfullscreen webkitallowfullscreen mozallowfullscreen></iframe></div></div>"
      ],
      "text/plain": [
       "<folium.folium.Map at 0x174fab79d08>"
      ]
     },
     "execution_count": 33,
     "metadata": {},
     "output_type": "execute_result"
    }
   ],
   "source": [
    "for i in range(len(data)):\n",
    "    folium.Marker(location=data[i][3], \n",
    "              popup='Tel: ' + data[i][1],\n",
    "             icon=folium.Icon(color='red', icon='glyphicon glyphicon-time')).add_to(map)\n",
    "map\n"
   ]
  },
  {
   "cell_type": "code",
   "execution_count": null,
   "metadata": {},
   "outputs": [],
   "source": []
  },
  {
   "cell_type": "code",
   "execution_count": null,
   "metadata": {},
   "outputs": [],
   "source": []
  }
 ],
 "metadata": {
  "kernelspec": {
   "display_name": "Python 3",
   "language": "python",
   "name": "python3"
  },
  "language_info": {
   "codemirror_mode": {
    "name": "ipython",
    "version": 3
   },
   "file_extension": ".py",
   "mimetype": "text/x-python",
   "name": "python",
   "nbconvert_exporter": "python",
   "pygments_lexer": "ipython3",
   "version": "3.7.7"
  }
 },
 "nbformat": 4,
 "nbformat_minor": 4
}
